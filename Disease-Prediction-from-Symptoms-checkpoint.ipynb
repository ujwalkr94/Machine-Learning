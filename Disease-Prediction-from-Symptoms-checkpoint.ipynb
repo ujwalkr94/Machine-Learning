{
 "cells": [
  {
   "cell_type": "markdown",
   "metadata": {},
   "source": [
    "## Disease Prediction from Symptoms\n",
    "\n",
    "Model Training Dataset Source: http://people.dbmi.columbia.edu/~friedma/Projects/DiseaseSymptomKB/index.html\n",
    "\n",
    "Model Testing/Prognosis Dataset Source: https://www.kaggle.com/kaushil268/disease-prediction-using-machine-learning"
   ]
  },
  {
   "cell_type": "code",
   "execution_count": 1,
   "metadata": {},
   "outputs": [],
   "source": [
    "# Import Dependencies\n",
    "import csv\n",
    "import pandas as pd\n",
    "import numpy as np\n",
    "from collections import defaultdict\n",
    "import seaborn as sns\n",
    "import matplotlib.pyplot as plt\n",
    "%matplotlib inline"
   ]
  },
  {
   "cell_type": "code",
   "execution_count": 2,
   "metadata": {},
   "outputs": [],
   "source": [
    "df = pd.read_excel('./dataset/raw_data.xlsx')"
   ]
  },
  {
   "cell_type": "code",
   "execution_count": 3,
   "metadata": {},
   "outputs": [
    {
     "data": {
      "text/html": [
       "<div>\n",
       "<style scoped>\n",
       "    .dataframe tbody tr th:only-of-type {\n",
       "        vertical-align: middle;\n",
       "    }\n",
       "\n",
       "    .dataframe tbody tr th {\n",
       "        vertical-align: top;\n",
       "    }\n",
       "\n",
       "    .dataframe thead th {\n",
       "        text-align: right;\n",
       "    }\n",
       "</style>\n",
       "<table border=\"1\" class=\"dataframe\">\n",
       "  <thead>\n",
       "    <tr style=\"text-align: right;\">\n",
       "      <th></th>\n",
       "      <th>Disease</th>\n",
       "      <th>Count of Disease Occurrence</th>\n",
       "      <th>Symptom</th>\n",
       "    </tr>\n",
       "  </thead>\n",
       "  <tbody>\n",
       "    <tr>\n",
       "      <th>0</th>\n",
       "      <td>UMLS:C0020538_hypertensive disease</td>\n",
       "      <td>3363.0</td>\n",
       "      <td>UMLS:C0008031_pain chest</td>\n",
       "    </tr>\n",
       "    <tr>\n",
       "      <th>1</th>\n",
       "      <td>NaN</td>\n",
       "      <td>NaN</td>\n",
       "      <td>UMLS:C0392680_shortness of breath</td>\n",
       "    </tr>\n",
       "    <tr>\n",
       "      <th>2</th>\n",
       "      <td>NaN</td>\n",
       "      <td>NaN</td>\n",
       "      <td>UMLS:C0012833_dizziness</td>\n",
       "    </tr>\n",
       "    <tr>\n",
       "      <th>3</th>\n",
       "      <td>NaN</td>\n",
       "      <td>NaN</td>\n",
       "      <td>UMLS:C0004093_asthenia</td>\n",
       "    </tr>\n",
       "    <tr>\n",
       "      <th>4</th>\n",
       "      <td>NaN</td>\n",
       "      <td>NaN</td>\n",
       "      <td>UMLS:C0085639_fall</td>\n",
       "    </tr>\n",
       "  </tbody>\n",
       "</table>\n",
       "</div>"
      ],
      "text/plain": [
       "                              Disease  Count of Disease Occurrence  \\\n",
       "0  UMLS:C0020538_hypertensive disease                       3363.0   \n",
       "1                                 NaN                          NaN   \n",
       "2                                 NaN                          NaN   \n",
       "3                                 NaN                          NaN   \n",
       "4                                 NaN                          NaN   \n",
       "\n",
       "                             Symptom  \n",
       "0           UMLS:C0008031_pain chest  \n",
       "1  UMLS:C0392680_shortness of breath  \n",
       "2            UMLS:C0012833_dizziness  \n",
       "3             UMLS:C0004093_asthenia  \n",
       "4                 UMLS:C0085639_fall  "
      ]
     },
     "execution_count": 3,
     "metadata": {},
     "output_type": "execute_result"
    }
   ],
   "source": [
    "df.head()"
   ]
  },
  {
   "cell_type": "code",
   "execution_count": 4,
   "metadata": {},
   "outputs": [],
   "source": [
    "data = df.fillna(method='ffill')"
   ]
  },
  {
   "cell_type": "code",
   "execution_count": 5,
   "metadata": {},
   "outputs": [
    {
     "data": {
      "text/html": [
       "<div>\n",
       "<style scoped>\n",
       "    .dataframe tbody tr th:only-of-type {\n",
       "        vertical-align: middle;\n",
       "    }\n",
       "\n",
       "    .dataframe tbody tr th {\n",
       "        vertical-align: top;\n",
       "    }\n",
       "\n",
       "    .dataframe thead th {\n",
       "        text-align: right;\n",
       "    }\n",
       "</style>\n",
       "<table border=\"1\" class=\"dataframe\">\n",
       "  <thead>\n",
       "    <tr style=\"text-align: right;\">\n",
       "      <th></th>\n",
       "      <th>Disease</th>\n",
       "      <th>Count of Disease Occurrence</th>\n",
       "      <th>Symptom</th>\n",
       "    </tr>\n",
       "  </thead>\n",
       "  <tbody>\n",
       "    <tr>\n",
       "      <th>0</th>\n",
       "      <td>UMLS:C0020538_hypertensive disease</td>\n",
       "      <td>3363.0</td>\n",
       "      <td>UMLS:C0008031_pain chest</td>\n",
       "    </tr>\n",
       "    <tr>\n",
       "      <th>1</th>\n",
       "      <td>UMLS:C0020538_hypertensive disease</td>\n",
       "      <td>3363.0</td>\n",
       "      <td>UMLS:C0392680_shortness of breath</td>\n",
       "    </tr>\n",
       "    <tr>\n",
       "      <th>2</th>\n",
       "      <td>UMLS:C0020538_hypertensive disease</td>\n",
       "      <td>3363.0</td>\n",
       "      <td>UMLS:C0012833_dizziness</td>\n",
       "    </tr>\n",
       "    <tr>\n",
       "      <th>3</th>\n",
       "      <td>UMLS:C0020538_hypertensive disease</td>\n",
       "      <td>3363.0</td>\n",
       "      <td>UMLS:C0004093_asthenia</td>\n",
       "    </tr>\n",
       "    <tr>\n",
       "      <th>4</th>\n",
       "      <td>UMLS:C0020538_hypertensive disease</td>\n",
       "      <td>3363.0</td>\n",
       "      <td>UMLS:C0085639_fall</td>\n",
       "    </tr>\n",
       "  </tbody>\n",
       "</table>\n",
       "</div>"
      ],
      "text/plain": [
       "                              Disease  Count of Disease Occurrence  \\\n",
       "0  UMLS:C0020538_hypertensive disease                       3363.0   \n",
       "1  UMLS:C0020538_hypertensive disease                       3363.0   \n",
       "2  UMLS:C0020538_hypertensive disease                       3363.0   \n",
       "3  UMLS:C0020538_hypertensive disease                       3363.0   \n",
       "4  UMLS:C0020538_hypertensive disease                       3363.0   \n",
       "\n",
       "                             Symptom  \n",
       "0           UMLS:C0008031_pain chest  \n",
       "1  UMLS:C0392680_shortness of breath  \n",
       "2            UMLS:C0012833_dizziness  \n",
       "3             UMLS:C0004093_asthenia  \n",
       "4                 UMLS:C0085639_fall  "
      ]
     },
     "execution_count": 5,
     "metadata": {},
     "output_type": "execute_result"
    }
   ],
   "source": [
    "data.head()"
   ]
  },
  {
   "cell_type": "code",
   "execution_count": 6,
   "metadata": {},
   "outputs": [
    {
     "data": {
      "text/plain": [
       "['Disease', 'Count of Disease Occurrence', 'Symptom']"
      ]
     },
     "execution_count": 6,
     "metadata": {},
     "output_type": "execute_result"
    }
   ],
   "source": [
    "list(data)"
   ]
  },
  {
   "cell_type": "code",
   "execution_count": 7,
   "metadata": {},
   "outputs": [],
   "source": [
    "# Process Disease and Symptom Names\n",
    "def process_data(data):\n",
    "    data_list = []\n",
    "    data_name = data.replace('^','_').split('_')\n",
    "    n = 1\n",
    "    for names in data_name:\n",
    "        if (n % 2 == 0):\n",
    "            data_list.append(names)\n",
    "        n += 1\n",
    "    return data_list"
   ]
  },
  {
   "cell_type": "code",
   "execution_count": 8,
   "metadata": {},
   "outputs": [],
   "source": [
    "disease_list = []\n",
    "disease_symptom_dict = defaultdict(list)\n",
    "disease_symptom_count = {}\n",
    "count = 0\n",
    "\n",
    "for idx, row in data.iterrows():\n",
    "    \n",
    "    # Get the Disease Names\n",
    "    if (row['Disease'] !=\"\\xc2\\xa0\") and (row['Disease'] != \"\"):\n",
    "        disease = row['Disease']\n",
    "        disease_list = process_data(data=disease)\n",
    "        count = row['Count of Disease Occurrence']\n",
    "\n",
    "    # Get the Symptoms Corresponding to Diseases\n",
    "    if (row['Symptom'] !=\"\\xc2\\xa0\") and (row['Symptom'] != \"\"):\n",
    "        symptom = row['Symptom']\n",
    "        symptom_list = process_data(data=symptom)\n",
    "        for d in disease_list:\n",
    "            for s in symptom_list:\n",
    "                disease_symptom_dict[d].append(s)\n",
    "            disease_symptom_count[d] = count"
   ]
  },
  {
   "cell_type": "code",
   "execution_count": 11,
   "metadata": {
    "scrolled": true
   },
   "outputs": [
    {
     "data": {
      "text/plain": [
       "dict_values([['pain chest', 'shortness of breath', 'dizziness', 'asthenia', 'fall', 'syncope', 'vertigo', 'sweat', 'sweating increased', 'palpitation', 'nausea', 'angina pectoris', 'pressure chest'], ['polyuria', 'polydypsia', 'shortness of breath', 'pain chest', 'asthenia', 'nausea', 'orthopnea', 'rale', 'sweat', 'sweating increased', 'unresponsiveness', 'mental status changes', 'vertigo', 'vomiting', 'labored breathing'], ['feeling suicidal', 'suicidal', 'hallucinations auditory', 'feeling hopeless', 'weepiness', 'sleeplessness', 'motor retardation', 'irritable mood', 'blackout', 'mood depressed', 'hallucinations visual', 'worry', 'agitation', 'tremor', 'intoxication', 'verbal auditory hallucinations', 'energy increased', 'difficulty', 'nightmare', 'unable to concentrate', 'homelessness'], ['feeling suicidal', 'suicidal', 'hallucinations auditory', 'feeling hopeless', 'weepiness', 'sleeplessness', 'motor retardation', 'irritable mood', 'blackout', 'mood depressed', 'hallucinations visual', 'worry', 'agitation', 'tremor', 'intoxication', 'verbal auditory hallucinations', 'energy increased', 'difficulty', 'nightmare', 'unable to concentrate', 'homelessness'], ['pain chest', 'angina pectoris', 'shortness of breath', 'hypokinesia', 'sweat', 'sweating increased', 'pressure chest', 'dyspnea on exertion', 'orthopnea', 'chest tightness'], ['pain chest', 'angina pectoris', 'shortness of breath', 'hypokinesia', 'sweat', 'sweating increased', 'pressure chest', 'dyspnea on exertion', 'orthopnea', 'chest tightness'], ['cough', 'fever', 'decreased translucency', 'shortness of breath', 'rale', 'productive cough', 'pleuritic pain', 'yellow sputum', 'breath sounds decreased', 'chill', 'rhonchus', 'green sputum', 'non-productive cough', 'wheezing', 'haemoptysis', 'distress respiratory', 'tachypnea', 'malaise', 'night sweat'], ['shortness of breath', 'orthopnea', 'jugular venous distention', 'rale', 'dyspnea', 'cough', 'wheezing'], ['dysarthria', 'asthenia', 'speech slurred', 'facial paresis', 'hemiplegia', 'unresponsiveness', 'seizure', 'numbness'], ['wheezing', 'cough', 'shortness of breath', 'chest tightness', 'non-productive cough', 'pleuritic pain', 'productive cough', 'symptom aggravating factors', 'distress respiratory'], ['pain chest', 'st segment elevation', 'sweat', 'sweating increased', 'shortness of breath', 'st segment depression', 'hypokinesia', 'angina pectoris', 'pressure chest', 't wave inverted', 'orthopnea', 'rale', 'chest tightness', 'presence of q wave', 'palpitation', 'dyspnea', 'chest discomfort', 'bradycardia', 'syncope'], ['pain', 'pain chest', 'sweat', 'sweating increased', 'nonsmoker', 'pressure chest', 'syncope', 'numbness', 'chest discomfort', 'shortness of breath', 'st segment depression', 'worry', 't wave inverted', 'bradycardia', 'dyspnea'], ['fever', 'erythema', 'decreased translucency', 'hepatosplenomegaly', 'chill', 'pruritus', 'diarrhea', 'abscess bacterial', 'swelling', 'pain', 'apyrexial', 'cough'], ['fever', 'dysuria', 'hematuria', 'renal angle tenderness', 'lethargy', 'asthenia', 'hyponatremia', 'hemodynamically stable', 'distress respiratory', 'difficulty passing urine', 'mental status changes', 'consciousness clear'], ['chill', 'guaiac positive', 'monoclonal', 'ecchymosis', 'tumor cell invasion', 'haemorrhage', 'pallor', 'asthenia', 'fatigue', 'heme positive', 'pain back', 'orthostasis', 'hyponatremia', 'dizziness', 'shortness of breath', 'pain', 'rhonchus', 'arthralgia', 'swelling', 'transaminitis'], ['shortness of breath', 'wheezing', 'cough', 'dyspnea', 'distress respiratory', 'sputum purulent', 'hypoxemia', 'hypercapnia', 'patient non compliance', 'chest tightness'], ['fever', 'fall', 'unresponsiveness', 'lethargy', 'agitation', 'ecchymosis', 'syncope', 'rale', 'unconscious state', 'cough', 'bedridden', 'bedridden', 'pain', 'facial paresis', 'abdominal tenderness', 'rhonchus', 'unsteady gait', 'hallucinations auditory'], ['shortness of breath', 'hyperkalemia', 'orthopnea', 'rale', 'urgency of\\xa0micturition', 'ascites', 'guaiac positive', 'asthenia', 'apyrexial', 'mental status changes', 'dyspnea', 'difficulty', 'diarrhea', 'hypotension', 'breath sounds decreased', 'swelling', 'hypokinesia'], ['seizure', 'enuresis', 'lethargy', 'speech slurred', 'fall', 'consciousness clear', 'mental status changes', 'asterixis', 'unconscious state', 'agitation', 'muscle twitch', 'asthenia', 'sleepy', 'dizziness', 'headache', 'dysarthria', 'lightheadedness', 'tremor', 'hyponatremia', 'unresponsiveness'], ['pain', 'food intolerance', 'numbness of hand', 'general discomfort', 'drowsiness', 'asthenia', 'nonsmoker', 'non-productive cough', 'polydypsia', 'stiffness', 'unsteady gait'], ['shortness of breath', 'prostatism', 'drowsiness', 'sleepy', 'hyponatremia', 'fall', 'unsteady gait', 'polyuria', 'hypotension', 'difficulty', 'syncope', 'nightmare', 'speech slurred', 'weight gain', 'asthenia', 'fatigue', 'tired', 'agitation', 'mental status changes', 'motor retardation', 'vomiting', 'numbness', 'mass of body structure'], ['worry', 'feeling suicidal', 'suicidal', 'sleeplessness', 'feeling hopeless', 'irritable mood', 'tremor', 'blackout', 'weepiness', 'has religious belief', 'nervousness', 'hallucinations visual', 'formication', 'difficulty', 'pain chest', 'patient non compliance', 'agitation', 'palpitation', 'hallucinations auditory', 'mood depressed', 'hot flush', 'pain', 'consciousness clear', 'nightmare'], ['pain', 'mass of body structure', 'lesion', 'cushingoid facies', 'cushingoid\\xa0habitus', 'emphysematous change', 'decreased body weight', 'ascites', 'hoarseness', 'thicken', 'hematuria'], ['pain', 'mass of body structure', 'lesion', 'cushingoid facies', 'cushingoid\\xa0habitus', 'emphysematous change', 'decreased body weight', 'ascites', 'hoarseness', 'thicken', 'hematuria'], ['fever', 'night sweat', 'spontaneous rupture of membranes', 'cough', '', 'decreased body weight', 'chill', 'diarrhea', 'pleuritic pain', 'patient non compliance', 'tachypnea', 'productive cough', 'muscle hypotonia', 'hypotonic', 'feeling suicidal'], ['fever', 'night sweat', 'spontaneous rupture of membranes', 'cough', '', 'decreased body weight', 'chill', 'diarrhea', 'pleuritic pain', 'patient non compliance', 'tachypnea', 'productive cough', 'muscle hypotonia', 'hypotonic', 'feeling suicidal'], ['fever', 'night sweat', 'spontaneous rupture of membranes', 'cough', '', 'decreased body weight', 'chill', 'diarrhea', 'pleuritic pain', 'patient non compliance', 'tachypnea', 'productive cough', 'muscle hypotonia', 'hypotonic', 'feeling suicidal'], ['erythema', 'pain', 'swelling', 'redness', 'fever', 'abscess bacterial', 'patient non compliance', 'hypesthesia', 'hyperacusis', 'pruritus', 'pain chest', 'scratch marks', 'chill', 'sore to touch'], ['pain', 'pain chest', 'burning sensation', 'hyponatremia', 'satiety early', 'throbbing sensation quality', 'chest tightness', 'sensory discomfort', 'presence of q wave', 'nausea', 'general discomfort', 'constipation', 'palpitation', 'pain abdominal', 'heartburn', 'sweat', 'sweating increased', 'asthenia'], ['fever', 'distress respiratory', 'hypotension', 'tachypnea', 'chill', 'lethargy', 'bradycardia', 'breech presentation', 'cyanosis', 'spontaneous rupture of membranes', 'haemorrhage', 'unresponsiveness', 'rale', 'apyrexial'], ['fever', 'distress respiratory', 'hypotension', 'tachypnea', 'chill', 'lethargy', 'bradycardia', 'breech presentation', 'cyanosis', 'spontaneous rupture of membranes', 'haemorrhage', 'unresponsiveness', 'rale', 'apyrexial'], ['fever', 'distress respiratory', 'hypotension', 'tachypnea', 'chill', 'lethargy', 'bradycardia', 'breech presentation', 'cyanosis', 'spontaneous rupture of membranes', 'haemorrhage', 'unresponsiveness', 'rale', 'apyrexial'], ['swelling', 'pain', 'ecchymosis', 'shortness of breath', 'pain in lower limb', 'cardiomegaly', 'rale', 'erythema', 'hypotension', 'clonus', 'non-productive cough', 'redness'], ['fever', 'diarrhea', 'vomiting', 'hypotension', 'nausea', 'lightheadedness', 'unwell', 'mental status changes', 'anorexia', 'asthenia', 'sensory discomfort', 'syncope', 'lethargy', 'dizziness', 'syncope', 'blackout', 'history of - blackout'], ['mass of body structure', 'lesion', 'pain chest', 'hematuria', 'tumor cell invasion', 'pain', 'anosmia', 'thicken', 'metastatic lesion', 'food intolerance', 'decreased body weight', 'night sweat', 'hemianopsia homonymous', 'satiety early', 'pain abdominal', 'headache'], ['shortness of breath', 'hypoxemia', 'tachypnea', 'hematocrit decreased', 'pain chest', 'dyspnea', 'pleuritic pain', 'neck stiffness', 'yellow sputum', 'productive cough', 'cicatrisation', 'unresponsiveness', 'distress respiratory', 'wheezing', 'apyrexial', 'non-productive cough'], ['seizure', 'hypometabolism', 'aura', 'muscle twitch', 'drowsiness', 'tremor', 'unresponsiveness', 'hemiplegia', 'myoclonus', 'gurgle', 'sleepy', 'lethargy', 'wheelchair bound'], ['shortness of breath', 'orthopnea', 'hypokinesia', 'jugular venous distention', 'palpitation', 'pain chest', 'syncope', 'yellow sputum', 'rale', 'dyspnea', 'dyspnea on exertion', 'left\\xa0atrial\\xa0hypertrophy', 'fatigue', 'weight gain', 'patient non compliance'], ['vomiting', 'orthopnea', 'hyperkalemia', 'oliguria', 'jugular venous distention', 'nausea', 'shortness of breath', 'mental status changes', 'diarrhea', 'asthenia', 'chest tightness', 'malaise', 'chill', 'rale', 'fever', 'pleuritic pain', 'apyrexial', 'guaiac positive', 'swelling', 'catatonia', 'unresponsiveness', 'yellow sputum'], ['mass of body structure', 'pain', 'lesion', 'tumor cell invasion', 'thicken', 'decreased body weight', 'hoarseness', 'general discomfort', 'metastatic lesion', 'non-productive cough', 'constipation', 'unhappy', 'paresthesia', 'gravida 0', 'diarrhea', 'sore to touch', 'heartburn', 'nausea', 'lung nodule'], ['ascites', 'distended abdomen', 'feeling suicidal', 'cough', 'ache', 'macerated skin', 'heavy feeling', 'hallucinations auditory', 'chill', 'asterixis', 'patient non compliance'], ['shortness of breath', 'rest pain', 'angina pectoris', 'unresponsiveness', 'hyperkalemia', 'sinus rhythm', 'labored breathing', 'dyspnea', 'sore to touch', 'anorexia', 'sleepy'], ['suicidal', 'hallucinations auditory', 'feeling suicidal', 'hallucinations visual', 'motor retardation', 'blackout', 'verbal auditory hallucinations', 'feeling hopeless', 'irritable mood', 'agitation', 'tremor', 'catatonia', 'weepiness', 'homelessness', 'sleeplessness', 'withdraw', 'energy increased', 'intoxication', 'worry', 'behavior hyperactive', 'patient non compliance', 'mood depressed', 'terrify', 'nightmare', 'consciousness clear'], ['pain chest', 'angina pectoris', 'palpitation', 'presence of q wave', 'photopsia', 'sweat', 'sweating increased', 'chest discomfort', 'shortness of breath', 'giddy mood', 'hypokinesia', 'hemiplegia', 'dizziness'], ['feeling suicidal', 'energy increased', 'suicidal', 'irritable mood', 'agitation', 'has religious belief', 'disturbed family', 'hallucinations auditory', 'verbal auditory hallucinations', 'weepiness', 'behavior hyperactive', 'catatonia', 'feeling hopeless', 'worry', 'sleeplessness', 'hypersomnia', 'difficulty', 'hallucinations visual', 'hyperhidrosis disorder', 'mydriasis', 'extrapyramidal sign', 'loose associations', 'intoxication', 'motor retardation', 'homelessness', 'blackout', 'tremor', 'exhaustion'], ['pain', 'catatonia', 'snore', 'pain chest', 'r wave feature', 'has religious belief', 'shortness of breath', 'fatigue', 'tired', 'overweight', 'systolic murmur', 'mood depressed', 'ecchymosis'], ['drowsiness', 'sleepy', 'pain chest', 'angina pectoris', 'pressure chest', 'chest discomfort', 'shortness of breath', 'dyspnea', 'sinus rhythm', 'bradycardia', 'sweat', 'sweating increased', 'rale', 'asymptomatic', 'anorexia'], ['ascites', 'fall', 'splenomegaly', 'pruritus', 'pain abdominal', 'tumor cell invasion', 'distended abdomen', 'lesion', 'hemodynamically stable', 'guaiac positive', 'sore to touch', 'bleeding of vagina'], ['fever', 'pruritus', 'macule', 'lesion', 'redness', 'headache', 'apyrexial', 'arthralgia', 'swelling', 'erythema', 'photophobia', 'chill', 'scratch marks', 'pain', 'painful swallowing'], ['mental status changes', 'cachexia', 'blackout', 'orthostasis', 'orthopnea', 'night sweat', 'distress respiratory', 'anorexia', 'dysarthria'], ['hyperkalemia', 'hypotension', 'hypocalcemia result', 'oliguria', 'hemodynamically stable', 'asthenia', 'hypothermia, natural', 'diarrhea', 'haemorrhage', 'unresponsiveness'], ['shortness of breath', 'dyspnea on exertion', 'asymptomatic', 'hypokinesia', 'dyspnea', 'syncope', 'thicken', 'left\\xa0atrial\\xa0hypertrophy', 'palpitation', 'fatigue', 'vomiting', 'pain', 'cardiomegaly', 'chest discomfort'], ['pain', 'hemodynamically stable', 'sleeplessness', 'asthenia', 'syncope', 'swelling', 'atypia', 'general unsteadiness', 'shortness of breath', 'distended abdomen'], ['cough', 'wheezing', 'shortness of breath', 'chest tightness', 'fever', 'throat sore', 'productive cough', 'hepatosplenomegaly', 'night sweat', 'haemoptysis', 'labored breathing', 'snuffle', 'hacking cough', 'dyspnea', 'chill', 'stridor', 'decreased body weight'], ['dysarthria', 'paresis', 'asthenia', 'aphagia', 'seizure', 'speech slurred', 'focal seizures', 'hemiplegia', 'abnormal sensation', 'unresponsiveness', 'stupor', 'drowsiness', 'sleepy', 'fremitus', \"Stahli's line\", 'stinging sensation', 'paralyse', 'clonus', 'facial paresis'], ['prostatism', 'fall', 'hirsutism', 'sniffle', 'distended abdomen', 'vertigo', 'numbness of hand', 'bradykinesia', 'pain', 'syncope', 'out of breath', 'apyrexial', 'urge incontinence', 'lightheadedness'], ['speech slurred', 'dysarthria', 'facial paresis', 'asthenia', 'neck stiffness', 'vertigo', 'numbness', 'lightheadedness', 'extrapyramidal sign', \"Stahli's line\", 'vision blurred', 'headache', 'room spinning', 'syncope', 'difficulty', 'rambling speech', 'clumsiness'], ['mass of body structure', 'lesion', 'decreased body weight', 'constipation', 'fremitus', 'decreased stool caliber', 'satiety early', 'hematochezia', 'egophony', 'pain', 'cicatrisation', 'scar tissue', 'pain abdominal'], ['hallucinations auditory', 'hallucinations visual', 'agitation', 'irritable mood', 'verbal auditory hallucinations', 'feeling suicidal', 'suicidal', 'terrify', 'neologism', 'homelessness', 'energy increased', 'mood depressed', 'decompensation', 'cicatrisation', 'scar tissue', 'blackout', 'loose associations'], ['vomiting', 'pain abdominal', 'nausea', 'pain', 'diarrhea', 'stool color yellow', 'rigor - temperature-associated observation', 'apyrexial', 'sore to touch'], ['paraparesis', 'seizure', 'asthenia', 'urge incontinence', 'unconscious state', 'aura', 'moody', 'fear of falling', 'tremor', 'spasm', 'unhappy', 'syncope', 'fall', 'stiffness', 'unresponsiveness'], ['orthopnea', 'shortness of breath', 'dyspnea on exertion', 'jugular venous distention', 'rale', 'pain chest', 'palpitation', 'sweat', 'sweating increased', 'weight gain', 'cough', 'dyspnea'], ['pain abdominal', 'pain', 'hyperventilation', 'excruciating pain', 'gag', 'nausea', 'posturing', 'hemiplegia', 'sore to touch', 'haemorrhage', 'apyrexial', 'food intolerance', 'pulse absent', 'asthenia', 'mass of body structure', 'thicken'], ['hematuria', 'dysesthesia', 'asthenia', 'polymyalgia', 'passed stones', 'pleuritic pain', 'guaiac positive', 'rale', 'breath sounds decreased', 'urge incontinence', 'dysuria', 'diarrhea', 'vertigo', 'qt interval prolonged', 'ataxia', 'paresis', 'hemianopsia homonymous', 'tumor cell invasion', 'hemodynamically stable', 'mass of body structure', 'rhonchus', 'orthostasis', 'decreased body weight'], ['hematuria', 'dysesthesia', 'asthenia', 'polymyalgia', 'passed stones', 'pleuritic pain', 'guaiac positive', 'rale', 'breath sounds decreased', 'urge incontinence', 'dysuria', 'diarrhea', 'vertigo', 'qt interval prolonged', 'ataxia', 'paresis', 'hemianopsia homonymous', 'tumor cell invasion', 'hemodynamically stable', 'mass of body structure', 'rhonchus', 'orthostasis', 'decreased body weight'], ['urgency of\\xa0micturition', 'shortness of breath', 'rale', 'tachypnea', 'orthopnea', \"Heberden's node\", 'jugular venous distention', 'dyspnea', 'sweat', 'sweating increased', 'patient non compliance', 'chest discomfort', 'hyperkalemia', 'sinus rhythm', 'pain chest', 'hypotension', 'wheezing'], ['pain', 'mass of body structure', 'night sweat', 'splenomegaly', 'lesion', 'chill', 'decreased body weight', 'swelling', 'fever', 'hyperacusis', 'fremitus', 'non-productive cough', 'egophony', 'redness', 'hepatomegaly', 'fatigue'], ['dyspnea on exertion', 'syncope', 'chest discomfort', 'systolic murmur', 'sciatica', 'angina pectoris', 'pain chest', 'frothy sputum', 'bradycardia', 'shortness of breath', 'pain'], ['mass in breast', 'mass of body structure', 'paresthesia', 'retropulsion', 'erythema', 'difficulty', 'lesion', 'estrogen use', 'burning sensation', 'dyspnea', 'swelling', 'formication'], ['mass in breast', 'mass of body structure', 'paresthesia', 'retropulsion', 'erythema', 'difficulty', 'lesion', 'estrogen use', 'burning sensation', 'dyspnea', 'swelling', 'formication'], ['hallucinations auditory', 'hypersomnolence', 'irritable mood', 'verbal auditory hallucinations', 'patient non compliance', 'agitation', 'suicidal', 'worry', 'hallucinations visual', 'underweight', 'underweight', 'homelessness'], ['pain abdominal', 'abscess bacterial', 'dullness', 'red blotches', 'diarrhea', 'sore to touch', 'dysuria', 'pain', 'vomiting', 'sinus rhythm', 'colic abdominal', 'apyrexial', 'abdominal tenderness', 'fever', 'unsteady gait', 'thicken', 'urgency of\\xa0micturition', 'anorexia', 'monoclonal', 'constipation'], ['rale', 'jugular venous distention', 'hyperkalemia', 'orthopnea', 'shortness of breath', 'drowsiness', 'sleepy', 'weight gain', 'hypokalemia', 'hypotension', 'swelling', 'distended abdomen'], ['pain abdominal', 'paraparesis', 'nausea', 'vomiting', 'polymyalgia', 'out of breath', 'pain chest', 'hemiplegia', 'gurgle', 'hunger', 'apyrexial', 'nervousness'], ['pain', 'redness', 'prostate tender', 'fever', 'difficulty passing urine', 'sore to touch', 'swelling', 'apyrexial', 'erythema', 'abscess bacterial', 'pain foot', 'urinary hesitation'], ['heme positive', 'pain abdominal', 'vomiting', 'disequilibrium', 'nausea', 'intoxication', 'haemorrhage', 'guaiac positive', 'pain', 'decreased body weight', 'sore to touch', 'dizziness'], ['fever', 'chill', 'flushing', 'unresponsiveness', 'indifferent mood', 'urinoma', 'vomiting', 'distended abdomen', 'hypoalbuminemia', 'pustule', 'prostatism', 'diarrhea', 'abdominal tenderness', 'pleuritic pain', 'decreased translucency', 'pallor'], ['orthopnea', 'oliguria', 'slowing of urinary stream', 'extreme exhaustion', 'unresponsiveness', 'hypotension', 'enuresis', 'shortness of breath', 'haemorrhage', 'prostatism', 'no status change', 'bedridden', 'bedridden', 'fatigue'], ['breakthrough pain', 'pain back', 'pain', 'shortness of breath', 'snuffle', 'pain chest', 'pain abdominal', 'hepatosplenomegaly', 'green sputum', 'apyrexial', 'headache'], ['orthopnea', 'fatigue', 'dyspnea on exertion', 'dyspnea', 'shortness of breath', 'pansystolic murmur', 'jugular venous distention', 'systolic ejection murmur', 'hypotension', 'angina pectoris', 'hypokinesia'], ['cough', 'throat sore', 'wheezing', 'shortness of breath', 'labored breathing', 'fever', 'stuffy nose', 'non-productive cough', 'snuffle', 'indifferent mood', 'egophony', 'barking cough', 'polymyalgia', 'pleuritic pain', 'night sweat', 'dyspnea', 'productive cough', 'decreased translucency', 'rhonchus', 'rapid shallow breathing', 'apyrexial', 'noisy respiration', 'nasal discharge present', 'emphysematous change', 'frail', 'cystic lesion', 'symptom aggravating factors', 'hemodynamically stable'], ['ascites', 'spontaneous rupture of membranes', 'tachypnea', 'pain abdominal', 'pruritus', 'anorexia', 'transaminitis', 'projectile vomiting', 'chill', 'distress respiratory', 'fever', 'vomiting'], ['shortness of breath', \"Stahli's line\", 'heavy legs', 'breath sounds decreased', 'neck stiffness', 'dyspnea on exertion', 'cyanosis', 'hypotension', 'left\\xa0atrial\\xa0hypertrophy'], ['paresthesia', 'titubation', 'dysarthria', 'painful swallowing', 'hoarseness', 'stridor', 'spasm', 'asthenia', 'dysdiadochokinesia', 'ataxia', 'achalasia', 'decreased body weight', 'stiffness', 'lesion', 'side pain'], ['hot flush', 'pain', 'redness', 'swelling', 'erythema', 'emphysematous change', 'sore to touch', 'hypokinesia', 'ascites', 'patient non compliance'], ['ecchymosis', 'monocytosis', 'posterior\\xa0rhinorrhea', 'haemorrhage', 'tachypnea', 'fever', 'pruritus', 'hypotension', 'fatigue'], ['unresponsiveness', 'hypothermia, natural', 'incoherent', 'qt interval prolonged', 'lameness', 'claudication', 'unconscious state', 'clammy skin', 'polyuria', 'distress respiratory', 'hypotension'], ['mediastinal shift', 'fever', 'clonus', 'mental status changes', 'decreased translucency', 'unresponsiveness', 'extreme exhaustion', 'stupor', 'seizure', 'transaminitis', 'hemiplegia', 'cough', 'gurgle', 'pain', 'diarrhea', 'pain abdominal'], ['fever', 'thicken', 'green sputum', 'vomiting', 'nausea and vomiting', 'awakening early', 'pain', 'nausea', 'chill', 'tenesmus', 'urge incontinence', 'pain abdominal', 'hemodynamically stable'], ['fecaluria', 'constipation', 'abscess bacterial', 'heme positive', 'lightheadedness', 'diarrhea', 'haemorrhage', 'pain', 'projectile vomiting', 'pneumatouria', 'cystic lesion', 'anorexia', 'nausea', 'feeling suicidal', 'feeling hopeless'], ['hallucinations auditory', 'sleeplessness', 'suicidal', 'motor retardation', 'weepiness', 'unable to concentrate', 'todd paralysis', 'worry', 'fatigue', 'tremor', 'alcoholic withdrawal symptoms', 'agitation', 'unresponsiveness', 'blackout', 'withdraw', 'difficulty', 'irritable mood', 'sensory discomfort', 'drowsiness', 'formication', 'unconscious state', 'fever', 'cough'], ['yellow sputum', 'cachexia', 'chill', 'decreased body weight', 'productive cough', 'myalgia', 'diarrhea', 'neck stiffness', 'hacking cough', 'dyspareunia', 'hypokalemia', 'dyspnea on exertion', 'poor dentition', 'transaminitis', 'non-productive cough', 'headache', 'floppy', 'spontaneous rupture of membranes'], ['inappropriate affect', 'tachypnea', 'yellow sputum', 'projectile vomiting', 'poor feeding', 'pain abdominal', 'abdominal tenderness', 'wheelchair bound', 'moan'], ['achalasia', 'fall', 'stiffness', 'withdraw', 'agitation', 'hemiplegia', 'difficulty', 'unresponsiveness', 'syncope', 'facial paresis', 'orthostasis', 'worry', 'drowsiness', 'sleepy', 'hematuria', 'tremor', 'night sweat', 'mass of body structure'], ['lesion', 'fever', 'welt', 'transaminitis', 'decreased body weight', 'ataxia', 'tinnitus', 'hydropneumothorax', 'superimposition', 'haemoptysis', 'fatigue', 'tired', 'polydypsia', 'difficulty passing urine'], ['sore to touch', 'pruritus', 'feeling strange', 'pustule', 'cushingoid facies', 'cushingoid\\xa0habitus', 'decreased body weight', 'mood depressed', 'estrogen use', 'wheezing', 'ascites', 'seizure'], ['uncoordination', 'asterixis', 'haemorrhage', 'drowsiness', 'sleepy', 'absences finding', 'posturing', 'aura', 'tonic seizures', 'debilitation', 'consciousness clear', 'unresponsiveness', 'thicken', 'hypokinesia'], ['shortness of breath', 'pain', 'vomiting', 'nausea', 'bradycardia', 'pain abdominal', 'fever', 'cicatrisation', 'mediastinal shift', 'impaired cognition'], ['drool', 'agitation', 'nightmare', 'rhonchus', 'consciousness clear', 'pin-point pupils', 'bedridden', 'bedridden', 'frail', 'tremor resting', 'hyperkalemia', 'facial paresis', 'groggy', 'muscle twitch', 'wheelchair bound', 'tremor', 'cough', 'fever'], ['diarrhea', 'throat sore', 'decreased body weight', 'chill', 'headache', 'abdominal tenderness', 'patient non compliance', 'photophobia', 'night sweat', 'painful swallowing', 'poor dentition', 'transaminitis', 'non-productive cough', 'adverse reaction', 'adverse effect', 'abdominal bloating'], ['diarrhea', 'throat sore', 'decreased body weight', 'chill', 'headache', 'abdominal tenderness', 'patient non compliance', 'photophobia', 'night sweat', 'painful swallowing', 'poor dentition', 'transaminitis', 'non-productive cough', 'adverse reaction', 'adverse effect', 'abdominal bloating'], ['asthenia', 'numbness', 'nausea and vomiting', 'awakening early', 'hydropneumothorax', 'superimposition', 'fatigability', 'tenesmus', 'pain', 'slowing of urinary stream'], ['shortness of breath', 'hyperkalemia', 'pain chest', 'fever', 'gravida 0', 'bleeding of vagina'], ['para 2', 'haemorrhage', 'abortion', 'intermenstrual heavy bleeding', 'muscle hypotonia', 'hypotonic', 'previous pregnancies 2', 'shortness of breath', 'fever', 'heartburn', 'primigravida', 'abnormally hard consistency', 'proteinemia'], ['fall', 'distended abdomen', 'unsteady gait', 'paresthesia', 'hyponatremia', 'agitation', 'unconscious state', 'burning sensation', 'lesion', 'mass of body structure'], ['thicken', 'tumor cell invasion', 'metastatic lesion', 'pain neck', 'lung nodule', 'pain', 'pain abdominal', 'food intolerance', 'mass of body structure', 'atypia'], ['lesion', 'prostatism', 'constipation', 'general discomfort', 'diarrhea', 'pain abdominal', 'urinary hesitation', 'dizzy spells', 'shooting pain', 'bradycardia', 'vomiting', 'systolic ejection murmur', 'nausea', 'hyperemesis', 'polydypsia'], ['lesion', 'prostatism', 'constipation', 'general discomfort', 'diarrhea', 'pain abdominal', 'urinary hesitation', 'dizzy spells', 'shooting pain', 'bradycardia', 'vomiting', 'systolic ejection murmur', 'nausea', 'hyperemesis', 'polydypsia'], ['polyuria', 'vomiting', 'nausea', 'pain abdominal', 'milky', 'feeling strange', 'gurgle', 'nervousness', 'abdominal tenderness', 'regurgitates after swallowing', 'vision blurred', 'urinary hesitation', 'diarrhea', 'seizure', 'aura'], ['drowsiness', 'lip smacking', 'myoclonus', 'tremor', 'phonophobia', 'rolling of eyes', 'sleepy', 'hirsutism', 'moody', 'muscle twitch', 'unresponsiveness', 'headache', 'ambidexterity', 'absences finding', 'spasm', 'decreased body weight', 'tumor cell invasion'], ['drowsiness', 'lip smacking', 'myoclonus', 'tremor', 'phonophobia', 'rolling of eyes', 'sleepy', 'hirsutism', 'moody', 'muscle twitch', 'unresponsiveness', 'headache', 'ambidexterity', 'absences finding', 'spasm', 'decreased body weight', 'tumor cell invasion'], ['pulsus\\xa0paradoxus', 'gravida 10', 'mass of body structure', 'lesion', 'heartburn', 'night sweat', 'thicken', 'chill', 'decreased translucency', 'pain abdominal', 'dullness', 'food intolerance', 'distress respiratory', 'hypotension'], ['hemiplegia', 'snore', 'unresponsiveness', 'productive cough', 'dyspnea', 'tachypnea', 'hyperkalemia', 'hypokinesia', 'sinus rhythm', 'general unsteadiness', 'bruit', 'consciousness clear', 'shortness of breath', 'lesion', 'redness'], ['mass of body structure', 'paraparesis', 'fever', 'gravida 0', 'pain', 'pruritus', 'mass in breast', 'vomiting', 'diarrhea'], ['pain abdominal', 'breath-holding spell', 'nausea', 'decreased body weight', 'sore to touch', 'scleral\\xa0icterus', 'fever', 'myalgia', 'hyponatremia', 'retch', 'mass of body structure', 'decreased body weight'], ['lesion', 'cough', 'lung nodule', 'shortness of breath', 'haemoptysis', 'debilitation', 'gurgle', 'ache', 'rale', 'night sweat', 'decreased translucency', 'asthenia', 'metastatic lesion', 'agitation', 'irritable mood'], ['lesion', 'cough', 'lung nodule', 'shortness of breath', 'haemoptysis', 'debilitation', 'gurgle', 'ache', 'rale', 'night sweat', 'decreased translucency', 'asthenia', 'metastatic lesion', 'agitation', 'irritable mood'], ['energy increased', 'suicidal', 'hypersomnia', 'feeling suicidal', 'blanch', 'hallucinations auditory', 'hallucinations visual', 'elation', 'verbal auditory hallucinations', 'feeling hopeless', 'difficulty', 'decompensation', 'verbally abusive behavior', 'suicidal', 'feeling suicidal'], ['nightmare', 'feeling hopeless', 'transsexual', 'hallucinations auditory', 'irritable mood', 'sleeplessness', 'agitation', 'weepiness', 'mood depressed', 'scratch marks', 'nausea and vomiting', 'extreme exhaustion', 'side pain', 'worry', 'enuresis', 'homelessness', 'nervousness', 'ascites', 'pruritus'], ['mass of body structure', 'splenomegaly', 'lesion', 'paresis', 'tumor cell invasion', 'room spinning', 'haemorrhage', 'thicken', 'indifferent mood', 'cachexia', 'hypothermia, natural', 'pain abdominal', 'hepatomegaly', 'hematocrit decreased', 'stupor', 'decreased body weight', 'shortness of breath', 'cough'], ['behavior showing increased motor activity', 'scar tissue', 'dyspnea on exertion', 'coordination abnormal', 'myalgia', 'hypercapnia', 'clammy skin', 'has religious belief', 'room spinning', 'moan', 'night sweat', 'cachexia', 'symptom aggravating factors', 'dyspnea', 'rale', 'flushing', 'painful swallowing', 'arthralgia', 'choke', 'tenesmus', 'constipation'], ['haemorrhage', 'bowel sounds decreased', 'decreased stool caliber', 'nausea and vomiting', 'hunger', 'diarrhea', 'dizziness', 'hyponatremia', 'clonus', 'pain', 'achalasia', 'burning sensation', 'guaiac positive', 'numbness of hand', 'wheezing', 'cough'], ['shortness of breath', 'scar tissue', 'apyrexial', 'no known drug allergies', 'pain', 'productive cough', 'throat sore', 'dyspnea', 'chest tightness', 'hypoxemia', 'tachypnea', 'sensory discomfort', 'fever', 'vomiting', 'rhonchus', 'hemiplegia', 'fremitus'], ['clonus', 'egophony', 'facial paresis', 'aphagia', 'muscle twitch', 'paralyse', 'low back pain', 'charleyhorse'], ['out of breath', 'sedentary', 'angina pectoris', 'cough', 'unhappy', 'labored breathing', 'hypothermia, natural', 'dyspnea', 'hematocrit decreased', 'wheezing', 'hypoxemia', 'renal angle tenderness', 'feels hot/feverish'], ['fever', 'pain', 'urgency of\\xa0micturition', 'hematuria', 'vomiting', 'chill', 'diarrhea', 'nausea', 'pain abdominal', 'myalgia', 'fever', 'chill'], ['pleuritic pain', 'thicken', 'myalgia', 'apyrexial', 'night sweat', 'flare', 'shortness of breath', 'orthopnea', 'abscess bacterial', 'hypotension', 'cough', 'metastatic lesion', 'breath sounds decreased', 'decreased body weight', 'decreased body weight', 'pulsus\\xa0paradoxus', 'hypokinesia'], ['pericardial friction rub', 'dyspnea', 'shortness of breath', 'hemodynamically stable', 'cardiomegaly', 'hypotension', 'sputum purulent', 'facial paresis', 'pain', 'oliguria', 'blackout', 'intoxication'], ['pericardial friction rub', 'dyspnea', 'shortness of breath', 'hemodynamically stable', 'cardiomegaly', 'hypotension', 'sputum purulent', 'facial paresis', 'pain', 'oliguria', 'blackout', 'intoxication'], ['tremor', 'hallucinations auditory', 'suicidal', 'hoard', 'irritable mood', 'feeling hopeless', 'feeling suicidal', 'neologism', 'seizure', 'homelessness', 'sleeplessness', 'unconscious state', 'panic', 'breath sounds decreased', 'shortness of breath'], ['dyspnea', 'cardiovascular finding', 'cardiovascular event', 'haemoptysis', 'cough', 'hypercapnia', 'soft tissue swelling', 'prostatism', 'agitation'], ['unsteady gait', 'withdraw', 'hyponatremia', 'verbally abusive behavior', 'feeling suicidal', 'unresponsiveness', 'worry', 'drowsiness', 'sleepy', 'hallucinations auditory', 'suicidal', 'fever', 'diarrhea'], ['transaminitis', 'splenomegaly', 'night sweat', 'apyrexial', 'lesion', 'snuffle', 'chill', 'cough', 'monoclonal', 'hypocalcemia result', 'oliguria', 'rhd positive', 'distress respiratory'], ['cyanosis', 'tachypnea', 'para 1', 'bradycardia', 'breech presentation', 'cushingoid facies', 'cushingoid\\xa0habitus', 'cough', 'myalgia'], ['uncoordination', 'fever', 'pleuritic pain', 'snuffle', 'throat sore', 'malaise', 'debilitation', 'symptom aggravating factors', 'chill', 'scleral\\xa0icterus', 'nasal flaring', 'dysuria', 'lip smacking', 'headache', 'sneeze', 'snore', 'green sputum', 'shortness of breath', 'distress respiratory', 'blackout', 'extreme exhaustion'], ['intoxication', 'tremor', 'agitation', 'suicidal', 'homelessness', 'prostatism', 'lethargy', 'seizure', 'muscle twitch', 'stuffy nose', 'feeling hopeless', 'heavy legs', 'rale'], ['hypokinesia', 'anorexia', 'hypertonicity', 'shortness of breath', 'hypoalbuminemia', 'pruritus', 'sore to touch', 'hemodynamically stable', 'facial paresis', 'vomiting', 'stool color yellow'], ['moan', 'nausea', 'pain abdominal', \"Murphy's sign\", 'flatulence', 'colic abdominal', 'pain', 'ascites', 'diarrhea', 'qt interval prolonged', 'cardiovascular finding', 'cardiovascular event', 'groggy', 'sinus rhythm', 'gasping for breath', 'constipation', 'feces in rectum', 'abnormally hard consistency'], ['pain abdominal', 'fatigability', 'prodrome', 'vomiting', 'nausea', 'myalgia', 'hyponatremia', 'sore to touch', 'general discomfort', 'dyspnea on exertion', 'asterixis', 'guaiac positive', 'numbness of hand', 'headache', 'photophobia'], ['ambidexterity', 'vomiting', 'dizziness', 'numbness', 'nausea', 'fever', 'splenomegaly'], ['hypoproteinemia', 'fatigue', 'haemorrhage', 'fatigability', 'cushingoid facies', 'cushingoid\\xa0habitus', 'stool color yellow', 'colic abdominal'], ['vomiting', 'nausea', 'pain abdominal', 'pain', 'cushingoid facies', 'cushingoid\\xa0habitus', 'ascites', 'thicken', 'sore to touch', 'diarrhea', 'apyrexial', 'palpitation'], ['vomiting', 'nausea', 'pain abdominal', 'pain', 'cushingoid facies', 'cushingoid\\xa0habitus', 'ascites', 'thicken', 'sore to touch', 'diarrhea', 'apyrexial', 'palpitation'], ['left\\xa0atrial\\xa0hypertrophy', 'sweat', 'sweating increased', 'alcohol binge episode', 'pressure chest', 'scar tissue', 'cardiovascular finding', 'cardiovascular event', 'orthostasis', 'shortness of breath', 't wave inverted', 'vomiting', 'pain abdominal'], ['abscess bacterial', 'abdomen acute', 'air fluid level', 'catching breath', 'abdominal tenderness', 'nausea', 'sore to touch', 'flatulence', 'diarrhea', 'mass of body structure', 'apyrexial', 'constipation', 'thicken', 'gravida 0', 'pain abdominal'], ['flatulence', 'pain', 'large-for-dates fetus', 'para 1', 'vomiting', 'lung nodule', 'breech presentation', 'shortness of breath', 'decreased body weight', 'immobile', 'unsteady gait', 'hallucinations visual', 'feeling suicidal'], ['loose associations', 'giddy mood', 'feeling hopeless', 'agitation', 'hallucinations auditory', 'irritable mood', 'sleeplessness', 'neologism', 'homicidal thoughts', 'disturbed family', 'worry', 'decompensation', 'verbally abusive behavior', 'catatonia', 'suicidal', 'terrify', 'blackout', 'weepiness', 'impaired cognition', 'irritable mood', 'agitation'], ['extreme exhaustion', 'sleeplessness', 'enuresis', 'patient non compliance', 'feeling hopeless', 'hallucinations visual', 'bedridden', 'bedridden', 'prostatism'], ['systolic murmur', 'frail', 'fever']])"
      ]
     },
     "execution_count": 11,
     "metadata": {},
     "output_type": "execute_result"
    }
   ],
   "source": [
    "# See that the data is Processed Correctly\n",
    "disease_symptom_dict\n",
    "disease_symptom_dict.values()"
   ]
  },
  {
   "cell_type": "code",
   "execution_count": 13,
   "metadata": {
    "scrolled": true
   },
   "outputs": [
    {
     "data": {
      "text/plain": [
       "{'hypertensive disease': 3363.0,\n",
       " 'diabetes': 1421.0,\n",
       " 'depression mental': 1337.0,\n",
       " 'depressive disorder': 1337.0,\n",
       " 'coronary arteriosclerosis': 1284.0,\n",
       " 'coronary heart disease': 1284.0,\n",
       " 'pneumonia': 1029.0,\n",
       " 'failure heart congestive': 963.0,\n",
       " 'accident\\xa0cerebrovascular': 885.0,\n",
       " 'asthma': 835.0,\n",
       " 'myocardial infarction': 759.0,\n",
       " 'hypercholesterolemia': 685.0,\n",
       " 'infection': 630.0,\n",
       " 'infection urinary tract': 597.0,\n",
       " 'anemia': 544.0,\n",
       " 'chronic obstructive airway disease': 524.0,\n",
       " 'dementia': 504.0,\n",
       " 'insufficiency renal': 445.0,\n",
       " 'confusion': 408.0,\n",
       " 'degenerative\\xa0polyarthritis': 405.0,\n",
       " 'hypothyroidism': 398.0,\n",
       " 'anxiety state': 390.0,\n",
       " 'malignant neoplasms': 354.0,\n",
       " 'primary malignant neoplasm': 354.0,\n",
       " 'acquired\\xa0immuno-deficiency syndrome': 350.0,\n",
       " 'HIV': 350.0,\n",
       " 'hiv infections': 350.0,\n",
       " 'cellulitis': 341.0,\n",
       " 'gastroesophageal reflux disease': 325.0,\n",
       " 'septicemia': 311.0,\n",
       " 'systemic infection': 311.0,\n",
       " 'sepsis (invertebrate)': 311.0,\n",
       " 'deep vein thrombosis': 310.0,\n",
       " 'dehydration': 297.0,\n",
       " 'neoplasm': 297.0,\n",
       " 'embolism pulmonary': 294.0,\n",
       " 'epilepsy': 290.0,\n",
       " 'cardiomyopathy': 283.0,\n",
       " 'chronic kidney failure': 280.0,\n",
       " 'carcinoma': 269.0,\n",
       " 'hepatitis C': 269.0,\n",
       " 'peripheral vascular disease': 268.0,\n",
       " 'psychotic disorder': 267.0,\n",
       " 'hyperlipidemia': 247.0,\n",
       " 'bipolar disorder': 241.0,\n",
       " 'obesity': 228.0,\n",
       " 'ischemia': 226.0,\n",
       " 'cirrhosis': 218.0,\n",
       " 'exanthema': 208.0,\n",
       " 'benign prostatic hypertrophy': 192.0,\n",
       " 'kidney failure acute': 186.0,\n",
       " 'mitral valve insufficiency': 186.0,\n",
       " 'arthritis': 179.0,\n",
       " 'bronchitis': 172.0,\n",
       " 'hemiparesis': 171.0,\n",
       " 'osteoporosis': 169.0,\n",
       " 'transient ischemic attack': 168.0,\n",
       " 'adenocarcinoma': 166.0,\n",
       " 'paranoia': 165.0,\n",
       " 'pancreatitis': 165.0,\n",
       " 'incontinence': 165.0,\n",
       " 'paroxysmal\\xa0dyspnea': 165.0,\n",
       " 'hernia': 164.0,\n",
       " 'malignant neoplasm of prostate': 163.0,\n",
       " 'carcinoma prostate': 163.0,\n",
       " 'edema pulmonary': 161.0,\n",
       " 'lymphatic diseases': 160.0,\n",
       " 'stenosis aortic valve': 158.0,\n",
       " 'malignant neoplasm of breast': 152.0,\n",
       " 'carcinoma breast': 152.0,\n",
       " 'schizophrenia': 147.0,\n",
       " 'diverticulitis': 145.0,\n",
       " 'overload fluid': 144.0,\n",
       " 'ulcer peptic': 143.0,\n",
       " 'osteomyelitis': 142.0,\n",
       " 'gastritis': 140.0,\n",
       " 'bacteremia': 142.0,\n",
       " 'failure kidney': 140.0,\n",
       " 'sickle cell anemia': 140.0,\n",
       " 'failure heart': 138.0,\n",
       " 'upper respiratory infection': 135.0,\n",
       " 'hepatitis': 133.0,\n",
       " 'hypertension pulmonary': 128.0,\n",
       " 'deglutition disorder': 126.0,\n",
       " 'gout': 124.0,\n",
       " 'thrombocytopaenia': 123.0,\n",
       " 'hypoglycemia': 122.0,\n",
       " 'pneumonia aspiration': 119.0,\n",
       " 'colitis': 114.0,\n",
       " 'diverticulosis': 114.0,\n",
       " 'suicide attempt': 114.0,\n",
       " 'Pneumocystis\\xa0carinii\\xa0pneumonia': 113.0,\n",
       " 'hepatitis B': 111.0,\n",
       " 'parkinson disease': 108.0,\n",
       " 'lymphoma': 105.0,\n",
       " 'hyperglycemia': 104.0,\n",
       " 'encephalopathy': 103.0,\n",
       " 'tricuspid valve insufficiency': 101.0,\n",
       " \"Alzheimer's disease\": 101.0,\n",
       " 'candidiasis': 99.0,\n",
       " 'oral\\xa0candidiasis': 99.0,\n",
       " 'neuropathy': 99.0,\n",
       " 'kidney disease': 96.0,\n",
       " 'fibroid tumor': 96.0,\n",
       " 'glaucoma': 95.0,\n",
       " 'neoplasm metastasis': 94.0,\n",
       " 'malignant tumor of colon': 94.0,\n",
       " 'carcinoma colon': 94.0,\n",
       " 'ketoacidosis diabetic': 93.0,\n",
       " 'tonic-clonic epilepsy': 92.0,\n",
       " 'tonic-clonic seizures': 92.0,\n",
       " 'malignant\\xa0neoplasms': 90.0,\n",
       " 'respiratory failure': 90.0,\n",
       " 'melanoma': 87.0,\n",
       " 'gastroenteritis': 87.0,\n",
       " 'malignant neoplasm of lung': 86.0,\n",
       " 'carcinoma of lung': 86.0,\n",
       " 'manic disorder': 85.0,\n",
       " 'personality disorder': 84.0,\n",
       " 'primary carcinoma of the liver cells': 82.0,\n",
       " 'emphysema pulmonary': 80.0,\n",
       " 'hemorrhoids': 80.0,\n",
       " 'spasm bronchial': 76.0,\n",
       " 'aphasia': 76.0,\n",
       " 'obesity morbid': 76.0,\n",
       " 'pyelonephritis': 74.0,\n",
       " 'endocarditis': 71.0,\n",
       " 'effusion pericardial': 71.0,\n",
       " 'pericardial effusion body substance': 71.0,\n",
       " 'chronic alcoholic intoxication': 70.0,\n",
       " 'pneumothorax': 68.0,\n",
       " 'delirium': 68.0,\n",
       " 'neutropenia': 68.0,\n",
       " 'hyperbilirubinemia': 68.0,\n",
       " 'influenza': 68.0,\n",
       " 'dependence': 67.0,\n",
       " 'thrombus': 67.0,\n",
       " 'cholecystitis': 66.0,\n",
       " 'hernia\\xa0hiatal': 61.0,\n",
       " 'migraine disorders': 61.0,\n",
       " 'pancytopenia': 61.0,\n",
       " 'cholelithiasis': 61.0,\n",
       " 'biliary calculus': 61.0,\n",
       " 'tachycardia sinus': 56.0,\n",
       " 'ileus': 56.0,\n",
       " 'adhesion': 57.0,\n",
       " 'delusion': 56.0,\n",
       " 'affect labile': 45.0,\n",
       " 'decubitus ulcer': 42.0}"
      ]
     },
     "execution_count": 13,
     "metadata": {},
     "output_type": "execute_result"
    }
   ],
   "source": [
    "# Count of Disease Occurence w.r.t each Disease\n",
    "disease_symptom_count"
   ]
  },
  {
   "cell_type": "code",
   "execution_count": 14,
   "metadata": {},
   "outputs": [],
   "source": [
    "f = open('./dataset/cleaned_data.csv', 'w')\n",
    "\n",
    "with f:\n",
    "    writer = csv.writer(f)\n",
    "    for key, val in disease_symptom_dict.items():\n",
    "        for i in range(len(val)):\n",
    "            writer.writerow([key, val[i], disease_symptom_count[key]])"
   ]
  },
  {
   "cell_type": "code",
   "execution_count": 15,
   "metadata": {},
   "outputs": [
    {
     "data": {
      "text/html": [
       "<div>\n",
       "<style scoped>\n",
       "    .dataframe tbody tr th:only-of-type {\n",
       "        vertical-align: middle;\n",
       "    }\n",
       "\n",
       "    .dataframe tbody tr th {\n",
       "        vertical-align: top;\n",
       "    }\n",
       "\n",
       "    .dataframe thead th {\n",
       "        text-align: right;\n",
       "    }\n",
       "</style>\n",
       "<table border=\"1\" class=\"dataframe\">\n",
       "  <thead>\n",
       "    <tr style=\"text-align: right;\">\n",
       "      <th></th>\n",
       "      <th>disease</th>\n",
       "      <th>symptom</th>\n",
       "      <th>occurence_count</th>\n",
       "    </tr>\n",
       "  </thead>\n",
       "  <tbody>\n",
       "    <tr>\n",
       "      <th>0</th>\n",
       "      <td>hypertensive disease</td>\n",
       "      <td>shortness of breath</td>\n",
       "      <td>3363.0</td>\n",
       "    </tr>\n",
       "    <tr>\n",
       "      <th>1</th>\n",
       "      <td>hypertensive disease</td>\n",
       "      <td>dizziness</td>\n",
       "      <td>3363.0</td>\n",
       "    </tr>\n",
       "    <tr>\n",
       "      <th>2</th>\n",
       "      <td>hypertensive disease</td>\n",
       "      <td>asthenia</td>\n",
       "      <td>3363.0</td>\n",
       "    </tr>\n",
       "    <tr>\n",
       "      <th>3</th>\n",
       "      <td>hypertensive disease</td>\n",
       "      <td>fall</td>\n",
       "      <td>3363.0</td>\n",
       "    </tr>\n",
       "    <tr>\n",
       "      <th>4</th>\n",
       "      <td>hypertensive disease</td>\n",
       "      <td>syncope</td>\n",
       "      <td>3363.0</td>\n",
       "    </tr>\n",
       "  </tbody>\n",
       "</table>\n",
       "</div>"
      ],
      "text/plain": [
       "                disease              symptom  occurence_count\n",
       "0  hypertensive disease  shortness of breath           3363.0\n",
       "1  hypertensive disease            dizziness           3363.0\n",
       "2  hypertensive disease             asthenia           3363.0\n",
       "3  hypertensive disease                 fall           3363.0\n",
       "4  hypertensive disease              syncope           3363.0"
      ]
     },
     "execution_count": 15,
     "metadata": {},
     "output_type": "execute_result"
    }
   ],
   "source": [
    "# Read Cleaned Data\n",
    "df = pd.read_csv('./dataset/cleaned_data.csv')\n",
    "df.columns = ['disease', 'symptom', 'occurence_count']\n",
    "df.head()"
   ]
  },
  {
   "cell_type": "code",
   "execution_count": 16,
   "metadata": {},
   "outputs": [],
   "source": [
    "df.to_csv('./dataset/data.csv', index=False)"
   ]
  },
  {
   "cell_type": "code",
   "execution_count": null,
   "metadata": {},
   "outputs": [],
   "source": [
    "from sklearn import preprocessing"
   ]
  },
  {
   "cell_type": "code",
   "execution_count": 15,
   "metadata": {},
   "outputs": [
    {
     "data": {
      "text/html": [
       "<div>\n",
       "<style scoped>\n",
       "    .dataframe tbody tr th:only-of-type {\n",
       "        vertical-align: middle;\n",
       "    }\n",
       "\n",
       "    .dataframe tbody tr th {\n",
       "        vertical-align: top;\n",
       "    }\n",
       "\n",
       "    .dataframe thead th {\n",
       "        text-align: right;\n",
       "    }\n",
       "</style>\n",
       "<table border=\"1\" class=\"dataframe\">\n",
       "  <thead>\n",
       "    <tr style=\"text-align: right;\">\n",
       "      <th></th>\n",
       "      <th>disease</th>\n",
       "      <th>symptom</th>\n",
       "      <th>occurence_count</th>\n",
       "    </tr>\n",
       "  </thead>\n",
       "  <tbody>\n",
       "    <tr>\n",
       "      <th>0</th>\n",
       "      <td>hypertensive disease</td>\n",
       "      <td>shortness of breath</td>\n",
       "      <td>3363.0</td>\n",
       "    </tr>\n",
       "    <tr>\n",
       "      <th>1</th>\n",
       "      <td>hypertensive disease</td>\n",
       "      <td>dizziness</td>\n",
       "      <td>3363.0</td>\n",
       "    </tr>\n",
       "    <tr>\n",
       "      <th>2</th>\n",
       "      <td>hypertensive disease</td>\n",
       "      <td>asthenia</td>\n",
       "      <td>3363.0</td>\n",
       "    </tr>\n",
       "    <tr>\n",
       "      <th>3</th>\n",
       "      <td>hypertensive disease</td>\n",
       "      <td>fall</td>\n",
       "      <td>3363.0</td>\n",
       "    </tr>\n",
       "    <tr>\n",
       "      <th>4</th>\n",
       "      <td>hypertensive disease</td>\n",
       "      <td>syncope</td>\n",
       "      <td>3363.0</td>\n",
       "    </tr>\n",
       "  </tbody>\n",
       "</table>\n",
       "</div>"
      ],
      "text/plain": [
       "                disease              symptom  occurence_count\n",
       "0  hypertensive disease  shortness of breath           3363.0\n",
       "1  hypertensive disease            dizziness           3363.0\n",
       "2  hypertensive disease             asthenia           3363.0\n",
       "3  hypertensive disease                 fall           3363.0\n",
       "4  hypertensive disease              syncope           3363.0"
      ]
     },
     "execution_count": 15,
     "metadata": {},
     "output_type": "execute_result"
    }
   ],
   "source": [
    "df = pd.read_csv('./dataset/data.csv')\n",
    "df.head()"
   ]
  },
  {
   "cell_type": "code",
   "execution_count": 16,
   "metadata": {},
   "outputs": [
    {
     "data": {
      "text/plain": [
       "405"
      ]
     },
     "execution_count": 16,
     "metadata": {},
     "output_type": "execute_result"
    }
   ],
   "source": [
    "n_unique = len(df['symptom'].unique())\n",
    "n_unique"
   ]
  },
  {
   "cell_type": "code",
   "execution_count": 17,
   "metadata": {},
   "outputs": [
    {
     "name": "stdout",
     "output_type": "stream",
     "text": [
      "[328  87  28 ... 361 130 122]\n"
     ]
    }
   ],
   "source": [
    "# TEST\n",
    "from sklearn.preprocessing import LabelEncoder\n",
    "from sklearn.preprocessing import OneHotEncoder\n",
    "\n",
    "label_encoder = LabelEncoder()\n",
    "integer_encoded = label_encoder.fit_transform(df['symptom'])\n",
    "print(integer_encoded)"
   ]
  },
  {
   "cell_type": "code",
   "execution_count": 18,
   "metadata": {
    "scrolled": false
   },
   "outputs": [
    {
     "name": "stdout",
     "output_type": "stream",
     "text": [
      "[[0. 0. 0. ... 0. 0. 0.]\n",
      " [0. 0. 0. ... 0. 0. 0.]\n",
      " [0. 0. 0. ... 0. 0. 0.]\n",
      " ...\n",
      " [0. 0. 0. ... 0. 0. 0.]\n",
      " [0. 0. 0. ... 0. 0. 0.]\n",
      " [0. 0. 0. ... 0. 0. 0.]]\n"
     ]
    }
   ],
   "source": [
    "onehot_encoder = OneHotEncoder(sparse=False)\n",
    "integer_encoded = integer_encoded.reshape(len(integer_encoded), 1)\n",
    "onehot_encoded = onehot_encoder.fit_transform(integer_encoded)\n",
    "print(onehot_encoded)"
   ]
  },
  {
   "cell_type": "code",
   "execution_count": 19,
   "metadata": {},
   "outputs": [
    {
     "data": {
      "text/plain": [
       "array([0., 0., 0., 0., 0., 0., 0., 0., 0., 0., 0., 0., 0., 0., 0., 0., 0.,\n",
       "       0., 0., 0., 0., 0., 0., 0., 0., 0., 0., 0., 0., 0., 0., 0., 0., 0.,\n",
       "       0., 0., 0., 0., 0., 0., 0., 0., 0., 0., 0., 0., 0., 0., 0., 0., 0.,\n",
       "       0., 0., 0., 0., 0., 0., 0., 0., 0., 0., 0., 0., 0., 0., 0., 0., 0.,\n",
       "       0., 0., 0., 0., 0., 0., 0., 0., 0., 0., 0., 0., 0., 0., 0., 0., 0.,\n",
       "       0., 0., 0., 0., 0., 0., 0., 0., 0., 0., 0., 0., 0., 0., 0., 0., 0.,\n",
       "       0., 0., 0., 0., 0., 0., 0., 0., 0., 0., 0., 0., 0., 0., 0., 0., 0.,\n",
       "       0., 0., 0., 0., 0., 0., 0., 0., 0., 0., 0., 0., 0., 0., 0., 0., 0.,\n",
       "       0., 0., 0., 0., 0., 0., 0., 0., 0., 0., 0., 0., 0., 0., 0., 0., 0.,\n",
       "       0., 0., 0., 0., 0., 0., 0., 0., 0., 0., 0., 0., 0., 0., 0., 0., 0.,\n",
       "       0., 0., 0., 0., 0., 0., 0., 0., 0., 0., 0., 0., 0., 0., 0., 0., 0.,\n",
       "       0., 0., 0., 0., 0., 0., 0., 0., 0., 0., 0., 0., 0., 0., 0., 0., 0.,\n",
       "       0., 0., 0., 0., 0., 0., 0., 0., 0., 0., 0., 0., 0., 0., 0., 0., 0.,\n",
       "       0., 0., 0., 0., 0., 0., 0., 0., 0., 0., 0., 0., 0., 0., 0., 0., 0.,\n",
       "       0., 0., 0., 0., 0., 0., 0., 0., 0., 0., 0., 0., 0., 0., 0., 0., 0.,\n",
       "       0., 0., 0., 0., 0., 0., 0., 0., 0., 0., 0., 0., 0., 0., 0., 0., 0.,\n",
       "       0., 0., 0., 0., 0., 0., 0., 0., 0., 0., 0., 0., 0., 0., 0., 0., 0.,\n",
       "       0., 0., 0., 0., 0., 0., 0., 0., 0., 0., 0., 0., 0., 0., 0., 0., 0.,\n",
       "       0., 0., 0., 0., 0., 0., 0., 0., 0., 0., 0., 0., 0., 0., 0., 0., 0.,\n",
       "       0., 0., 0., 0., 0., 1., 0., 0., 0., 0., 0., 0., 0., 0., 0., 0., 0.,\n",
       "       0., 0., 0., 0., 0., 0., 0., 0., 0., 0., 0., 0., 0., 0., 0., 0., 0.,\n",
       "       0., 0., 0., 0., 0., 0., 0., 0., 0., 0., 0., 0., 0., 0., 0., 0., 0.,\n",
       "       0., 0., 0., 0., 0., 0., 0., 0., 0., 0., 0., 0., 0., 0., 0., 0., 0.,\n",
       "       0., 0., 0., 0., 0., 0., 0., 0., 0., 0., 0., 0., 0., 0.])"
      ]
     },
     "execution_count": 19,
     "metadata": {},
     "output_type": "execute_result"
    }
   ],
   "source": [
    "onehot_encoded[0]"
   ]
  },
  {
   "cell_type": "code",
   "execution_count": 20,
   "metadata": {},
   "outputs": [
    {
     "data": {
      "text/plain": [
       "405"
      ]
     },
     "execution_count": 20,
     "metadata": {},
     "output_type": "execute_result"
    }
   ],
   "source": [
    "len(onehot_encoded[0])"
   ]
  },
  {
   "cell_type": "code",
   "execution_count": 12,
   "metadata": {},
   "outputs": [
    {
     "ename": "KeyError",
     "evalue": "'symptom'",
     "output_type": "error",
     "traceback": [
      "\u001b[1;31m---------------------------------------------------------------------------\u001b[0m",
      "\u001b[1;31mKeyError\u001b[0m                                  Traceback (most recent call last)",
      "\u001b[1;32m~\\anaconda3\\lib\\site-packages\\pandas\\core\\indexes\\base.py\u001b[0m in \u001b[0;36mget_loc\u001b[1;34m(self, key, method, tolerance)\u001b[0m\n\u001b[0;32m   3079\u001b[0m             \u001b[1;32mtry\u001b[0m\u001b[1;33m:\u001b[0m\u001b[1;33m\u001b[0m\u001b[1;33m\u001b[0m\u001b[0m\n\u001b[1;32m-> 3080\u001b[1;33m                 \u001b[1;32mreturn\u001b[0m \u001b[0mself\u001b[0m\u001b[1;33m.\u001b[0m\u001b[0m_engine\u001b[0m\u001b[1;33m.\u001b[0m\u001b[0mget_loc\u001b[0m\u001b[1;33m(\u001b[0m\u001b[0mcasted_key\u001b[0m\u001b[1;33m)\u001b[0m\u001b[1;33m\u001b[0m\u001b[1;33m\u001b[0m\u001b[0m\n\u001b[0m\u001b[0;32m   3081\u001b[0m             \u001b[1;32mexcept\u001b[0m \u001b[0mKeyError\u001b[0m \u001b[1;32mas\u001b[0m \u001b[0merr\u001b[0m\u001b[1;33m:\u001b[0m\u001b[1;33m\u001b[0m\u001b[1;33m\u001b[0m\u001b[0m\n",
      "\u001b[1;32mpandas\\_libs\\index.pyx\u001b[0m in \u001b[0;36mpandas._libs.index.IndexEngine.get_loc\u001b[1;34m()\u001b[0m\n",
      "\u001b[1;32mpandas\\_libs\\index.pyx\u001b[0m in \u001b[0;36mpandas._libs.index.IndexEngine.get_loc\u001b[1;34m()\u001b[0m\n",
      "\u001b[1;32mpandas\\_libs\\hashtable_class_helper.pxi\u001b[0m in \u001b[0;36mpandas._libs.hashtable.PyObjectHashTable.get_item\u001b[1;34m()\u001b[0m\n",
      "\u001b[1;32mpandas\\_libs\\hashtable_class_helper.pxi\u001b[0m in \u001b[0;36mpandas._libs.hashtable.PyObjectHashTable.get_item\u001b[1;34m()\u001b[0m\n",
      "\u001b[1;31mKeyError\u001b[0m: 'symptom'",
      "\nThe above exception was the direct cause of the following exception:\n",
      "\u001b[1;31mKeyError\u001b[0m                                  Traceback (most recent call last)",
      "\u001b[1;32m<ipython-input-12-74683e6433a5>\u001b[0m in \u001b[0;36m<module>\u001b[1;34m\u001b[0m\n\u001b[1;32m----> 1\u001b[1;33m \u001b[0mcols\u001b[0m \u001b[1;33m=\u001b[0m \u001b[0mnp\u001b[0m\u001b[1;33m.\u001b[0m\u001b[0masarray\u001b[0m\u001b[1;33m(\u001b[0m\u001b[0mdf\u001b[0m\u001b[1;33m[\u001b[0m\u001b[1;34m'symptom'\u001b[0m\u001b[1;33m]\u001b[0m\u001b[1;33m.\u001b[0m\u001b[0munique\u001b[0m\u001b[1;33m(\u001b[0m\u001b[1;33m)\u001b[0m\u001b[1;33m)\u001b[0m\u001b[1;33m\u001b[0m\u001b[1;33m\u001b[0m\u001b[0m\n\u001b[0m\u001b[0;32m      2\u001b[0m \u001b[0mlen\u001b[0m\u001b[1;33m(\u001b[0m\u001b[0mcols\u001b[0m\u001b[1;33m)\u001b[0m\u001b[1;33m\u001b[0m\u001b[1;33m\u001b[0m\u001b[0m\n",
      "\u001b[1;32m~\\anaconda3\\lib\\site-packages\\pandas\\core\\frame.py\u001b[0m in \u001b[0;36m__getitem__\u001b[1;34m(self, key)\u001b[0m\n\u001b[0;32m   3022\u001b[0m             \u001b[1;32mif\u001b[0m \u001b[0mself\u001b[0m\u001b[1;33m.\u001b[0m\u001b[0mcolumns\u001b[0m\u001b[1;33m.\u001b[0m\u001b[0mnlevels\u001b[0m \u001b[1;33m>\u001b[0m \u001b[1;36m1\u001b[0m\u001b[1;33m:\u001b[0m\u001b[1;33m\u001b[0m\u001b[1;33m\u001b[0m\u001b[0m\n\u001b[0;32m   3023\u001b[0m                 \u001b[1;32mreturn\u001b[0m \u001b[0mself\u001b[0m\u001b[1;33m.\u001b[0m\u001b[0m_getitem_multilevel\u001b[0m\u001b[1;33m(\u001b[0m\u001b[0mkey\u001b[0m\u001b[1;33m)\u001b[0m\u001b[1;33m\u001b[0m\u001b[1;33m\u001b[0m\u001b[0m\n\u001b[1;32m-> 3024\u001b[1;33m             \u001b[0mindexer\u001b[0m \u001b[1;33m=\u001b[0m \u001b[0mself\u001b[0m\u001b[1;33m.\u001b[0m\u001b[0mcolumns\u001b[0m\u001b[1;33m.\u001b[0m\u001b[0mget_loc\u001b[0m\u001b[1;33m(\u001b[0m\u001b[0mkey\u001b[0m\u001b[1;33m)\u001b[0m\u001b[1;33m\u001b[0m\u001b[1;33m\u001b[0m\u001b[0m\n\u001b[0m\u001b[0;32m   3025\u001b[0m             \u001b[1;32mif\u001b[0m \u001b[0mis_integer\u001b[0m\u001b[1;33m(\u001b[0m\u001b[0mindexer\u001b[0m\u001b[1;33m)\u001b[0m\u001b[1;33m:\u001b[0m\u001b[1;33m\u001b[0m\u001b[1;33m\u001b[0m\u001b[0m\n\u001b[0;32m   3026\u001b[0m                 \u001b[0mindexer\u001b[0m \u001b[1;33m=\u001b[0m \u001b[1;33m[\u001b[0m\u001b[0mindexer\u001b[0m\u001b[1;33m]\u001b[0m\u001b[1;33m\u001b[0m\u001b[1;33m\u001b[0m\u001b[0m\n",
      "\u001b[1;32m~\\anaconda3\\lib\\site-packages\\pandas\\core\\indexes\\base.py\u001b[0m in \u001b[0;36mget_loc\u001b[1;34m(self, key, method, tolerance)\u001b[0m\n\u001b[0;32m   3080\u001b[0m                 \u001b[1;32mreturn\u001b[0m \u001b[0mself\u001b[0m\u001b[1;33m.\u001b[0m\u001b[0m_engine\u001b[0m\u001b[1;33m.\u001b[0m\u001b[0mget_loc\u001b[0m\u001b[1;33m(\u001b[0m\u001b[0mcasted_key\u001b[0m\u001b[1;33m)\u001b[0m\u001b[1;33m\u001b[0m\u001b[1;33m\u001b[0m\u001b[0m\n\u001b[0;32m   3081\u001b[0m             \u001b[1;32mexcept\u001b[0m \u001b[0mKeyError\u001b[0m \u001b[1;32mas\u001b[0m \u001b[0merr\u001b[0m\u001b[1;33m:\u001b[0m\u001b[1;33m\u001b[0m\u001b[1;33m\u001b[0m\u001b[0m\n\u001b[1;32m-> 3082\u001b[1;33m                 \u001b[1;32mraise\u001b[0m \u001b[0mKeyError\u001b[0m\u001b[1;33m(\u001b[0m\u001b[0mkey\u001b[0m\u001b[1;33m)\u001b[0m \u001b[1;32mfrom\u001b[0m \u001b[0merr\u001b[0m\u001b[1;33m\u001b[0m\u001b[1;33m\u001b[0m\u001b[0m\n\u001b[0m\u001b[0;32m   3083\u001b[0m \u001b[1;33m\u001b[0m\u001b[0m\n\u001b[0;32m   3084\u001b[0m         \u001b[1;32mif\u001b[0m \u001b[0mtolerance\u001b[0m \u001b[1;32mis\u001b[0m \u001b[1;32mnot\u001b[0m \u001b[1;32mNone\u001b[0m\u001b[1;33m:\u001b[0m\u001b[1;33m\u001b[0m\u001b[1;33m\u001b[0m\u001b[0m\n",
      "\u001b[1;31mKeyError\u001b[0m: 'symptom'"
     ]
    }
   ],
   "source": [
    "cols = np.asarray(df['symptom'].unique())"
   ]
  },
  {
   "cell_type": "code",
   "execution_count": 22,
   "metadata": {},
   "outputs": [
    {
     "data": {
      "text/html": [
       "<div>\n",
       "<style scoped>\n",
       "    .dataframe tbody tr th:only-of-type {\n",
       "        vertical-align: middle;\n",
       "    }\n",
       "\n",
       "    .dataframe tbody tr th {\n",
       "        vertical-align: top;\n",
       "    }\n",
       "\n",
       "    .dataframe thead th {\n",
       "        text-align: right;\n",
       "    }\n",
       "</style>\n",
       "<table border=\"1\" class=\"dataframe\">\n",
       "  <thead>\n",
       "    <tr style=\"text-align: right;\">\n",
       "      <th></th>\n",
       "      <th>shortness of breath</th>\n",
       "      <th>dizziness</th>\n",
       "      <th>asthenia</th>\n",
       "      <th>fall</th>\n",
       "      <th>syncope</th>\n",
       "      <th>vertigo</th>\n",
       "      <th>sweat</th>\n",
       "      <th>sweating increased</th>\n",
       "      <th>palpitation</th>\n",
       "      <th>nausea</th>\n",
       "      <th>...</th>\n",
       "      <th>feces in rectum</th>\n",
       "      <th>prodrome</th>\n",
       "      <th>hypoproteinemia</th>\n",
       "      <th>alcohol binge episode</th>\n",
       "      <th>abdomen acute</th>\n",
       "      <th>air fluid level</th>\n",
       "      <th>catching breath</th>\n",
       "      <th>large-for-dates fetus</th>\n",
       "      <th>immobile</th>\n",
       "      <th>homicidal thoughts</th>\n",
       "    </tr>\n",
       "  </thead>\n",
       "  <tbody>\n",
       "  </tbody>\n",
       "</table>\n",
       "<p>0 rows × 405 columns</p>\n",
       "</div>"
      ],
      "text/plain": [
       "Empty DataFrame\n",
       "Columns: [shortness of breath, dizziness, asthenia, fall, syncope, vertigo, sweat, sweating increased, palpitation, nausea, angina pectoris, pressure chest, polyuria, polydypsia, pain chest, orthopnea, rale, unresponsiveness, mental status changes, vomiting, labored breathing, feeling suicidal, suicidal, hallucinations auditory, feeling hopeless, weepiness, sleeplessness, motor retardation, irritable mood, blackout, mood depressed, hallucinations visual, worry, agitation, tremor, intoxication, verbal auditory hallucinations, energy increased, difficulty, nightmare, unable to concentrate, homelessness, hypokinesia, dyspnea on exertion, chest tightness, cough, fever, decreased translucency, productive cough, pleuritic pain, yellow sputum, breath sounds decreased, chill, rhonchus, green sputum, non-productive cough, wheezing, haemoptysis, distress respiratory, tachypnea, malaise, night sweat, jugular venous distention, dyspnea, dysarthria, speech slurred, facial paresis, hemiplegia, seizure, numbness, symptom aggravating factors, st segment elevation, st segment depression, t wave inverted, presence of q wave, chest discomfort, bradycardia, pain, nonsmoker, erythema, hepatosplenomegaly, pruritus, diarrhea, abscess bacterial, swelling, apyrexial, dysuria, hematuria, renal angle tenderness, lethargy, hyponatremia, hemodynamically stable, difficulty passing urine, consciousness clear, guaiac positive, monoclonal, ecchymosis, tumor cell invasion, haemorrhage, pallor, ...]\n",
       "Index: []\n",
       "\n",
       "[0 rows x 405 columns]"
      ]
     },
     "execution_count": 22,
     "metadata": {},
     "output_type": "execute_result"
    }
   ],
   "source": [
    "df_ohe = pd.DataFrame(columns = cols)\n",
    "df_ohe.head()"
   ]
  },
  {
   "cell_type": "code",
   "execution_count": 23,
   "metadata": {},
   "outputs": [],
   "source": [
    "for i in range(len(onehot_encoded)):\n",
    "    df_ohe.loc[i] = onehot_encoded[i]"
   ]
  },
  {
   "cell_type": "code",
   "execution_count": 24,
   "metadata": {},
   "outputs": [
    {
     "data": {
      "text/html": [
       "<div>\n",
       "<style scoped>\n",
       "    .dataframe tbody tr th:only-of-type {\n",
       "        vertical-align: middle;\n",
       "    }\n",
       "\n",
       "    .dataframe tbody tr th {\n",
       "        vertical-align: top;\n",
       "    }\n",
       "\n",
       "    .dataframe thead th {\n",
       "        text-align: right;\n",
       "    }\n",
       "</style>\n",
       "<table border=\"1\" class=\"dataframe\">\n",
       "  <thead>\n",
       "    <tr style=\"text-align: right;\">\n",
       "      <th></th>\n",
       "      <th>shortness of breath</th>\n",
       "      <th>dizziness</th>\n",
       "      <th>asthenia</th>\n",
       "      <th>fall</th>\n",
       "      <th>syncope</th>\n",
       "      <th>vertigo</th>\n",
       "      <th>sweat</th>\n",
       "      <th>sweating increased</th>\n",
       "      <th>palpitation</th>\n",
       "      <th>nausea</th>\n",
       "      <th>...</th>\n",
       "      <th>feces in rectum</th>\n",
       "      <th>prodrome</th>\n",
       "      <th>hypoproteinemia</th>\n",
       "      <th>alcohol binge episode</th>\n",
       "      <th>abdomen acute</th>\n",
       "      <th>air fluid level</th>\n",
       "      <th>catching breath</th>\n",
       "      <th>large-for-dates fetus</th>\n",
       "      <th>immobile</th>\n",
       "      <th>homicidal thoughts</th>\n",
       "    </tr>\n",
       "  </thead>\n",
       "  <tbody>\n",
       "    <tr>\n",
       "      <th>0</th>\n",
       "      <td>0.0</td>\n",
       "      <td>0.0</td>\n",
       "      <td>0.0</td>\n",
       "      <td>0.0</td>\n",
       "      <td>0.0</td>\n",
       "      <td>0.0</td>\n",
       "      <td>0.0</td>\n",
       "      <td>0.0</td>\n",
       "      <td>0.0</td>\n",
       "      <td>0.0</td>\n",
       "      <td>...</td>\n",
       "      <td>0.0</td>\n",
       "      <td>0.0</td>\n",
       "      <td>0.0</td>\n",
       "      <td>0.0</td>\n",
       "      <td>0.0</td>\n",
       "      <td>0.0</td>\n",
       "      <td>0.0</td>\n",
       "      <td>0.0</td>\n",
       "      <td>0.0</td>\n",
       "      <td>0.0</td>\n",
       "    </tr>\n",
       "    <tr>\n",
       "      <th>1</th>\n",
       "      <td>0.0</td>\n",
       "      <td>0.0</td>\n",
       "      <td>0.0</td>\n",
       "      <td>0.0</td>\n",
       "      <td>0.0</td>\n",
       "      <td>0.0</td>\n",
       "      <td>0.0</td>\n",
       "      <td>0.0</td>\n",
       "      <td>0.0</td>\n",
       "      <td>0.0</td>\n",
       "      <td>...</td>\n",
       "      <td>0.0</td>\n",
       "      <td>0.0</td>\n",
       "      <td>0.0</td>\n",
       "      <td>0.0</td>\n",
       "      <td>0.0</td>\n",
       "      <td>0.0</td>\n",
       "      <td>0.0</td>\n",
       "      <td>0.0</td>\n",
       "      <td>0.0</td>\n",
       "      <td>0.0</td>\n",
       "    </tr>\n",
       "    <tr>\n",
       "      <th>2</th>\n",
       "      <td>0.0</td>\n",
       "      <td>0.0</td>\n",
       "      <td>0.0</td>\n",
       "      <td>0.0</td>\n",
       "      <td>0.0</td>\n",
       "      <td>0.0</td>\n",
       "      <td>0.0</td>\n",
       "      <td>0.0</td>\n",
       "      <td>0.0</td>\n",
       "      <td>0.0</td>\n",
       "      <td>...</td>\n",
       "      <td>0.0</td>\n",
       "      <td>0.0</td>\n",
       "      <td>0.0</td>\n",
       "      <td>0.0</td>\n",
       "      <td>0.0</td>\n",
       "      <td>0.0</td>\n",
       "      <td>0.0</td>\n",
       "      <td>0.0</td>\n",
       "      <td>0.0</td>\n",
       "      <td>0.0</td>\n",
       "    </tr>\n",
       "    <tr>\n",
       "      <th>3</th>\n",
       "      <td>0.0</td>\n",
       "      <td>0.0</td>\n",
       "      <td>0.0</td>\n",
       "      <td>0.0</td>\n",
       "      <td>0.0</td>\n",
       "      <td>0.0</td>\n",
       "      <td>0.0</td>\n",
       "      <td>0.0</td>\n",
       "      <td>0.0</td>\n",
       "      <td>0.0</td>\n",
       "      <td>...</td>\n",
       "      <td>0.0</td>\n",
       "      <td>0.0</td>\n",
       "      <td>0.0</td>\n",
       "      <td>0.0</td>\n",
       "      <td>0.0</td>\n",
       "      <td>0.0</td>\n",
       "      <td>0.0</td>\n",
       "      <td>0.0</td>\n",
       "      <td>0.0</td>\n",
       "      <td>0.0</td>\n",
       "    </tr>\n",
       "    <tr>\n",
       "      <th>4</th>\n",
       "      <td>0.0</td>\n",
       "      <td>0.0</td>\n",
       "      <td>0.0</td>\n",
       "      <td>0.0</td>\n",
       "      <td>0.0</td>\n",
       "      <td>0.0</td>\n",
       "      <td>0.0</td>\n",
       "      <td>0.0</td>\n",
       "      <td>0.0</td>\n",
       "      <td>0.0</td>\n",
       "      <td>...</td>\n",
       "      <td>0.0</td>\n",
       "      <td>0.0</td>\n",
       "      <td>0.0</td>\n",
       "      <td>0.0</td>\n",
       "      <td>0.0</td>\n",
       "      <td>0.0</td>\n",
       "      <td>0.0</td>\n",
       "      <td>0.0</td>\n",
       "      <td>0.0</td>\n",
       "      <td>0.0</td>\n",
       "    </tr>\n",
       "  </tbody>\n",
       "</table>\n",
       "<p>5 rows × 405 columns</p>\n",
       "</div>"
      ],
      "text/plain": [
       "   shortness of breath  dizziness  asthenia  fall  syncope  vertigo  sweat  \\\n",
       "0                  0.0        0.0       0.0   0.0      0.0      0.0    0.0   \n",
       "1                  0.0        0.0       0.0   0.0      0.0      0.0    0.0   \n",
       "2                  0.0        0.0       0.0   0.0      0.0      0.0    0.0   \n",
       "3                  0.0        0.0       0.0   0.0      0.0      0.0    0.0   \n",
       "4                  0.0        0.0       0.0   0.0      0.0      0.0    0.0   \n",
       "\n",
       "   sweating increased  palpitation  nausea  ...  feces in rectum  prodrome  \\\n",
       "0                 0.0          0.0     0.0  ...              0.0       0.0   \n",
       "1                 0.0          0.0     0.0  ...              0.0       0.0   \n",
       "2                 0.0          0.0     0.0  ...              0.0       0.0   \n",
       "3                 0.0          0.0     0.0  ...              0.0       0.0   \n",
       "4                 0.0          0.0     0.0  ...              0.0       0.0   \n",
       "\n",
       "   hypoproteinemia  alcohol binge episode  abdomen acute  air fluid level  \\\n",
       "0              0.0                    0.0            0.0              0.0   \n",
       "1              0.0                    0.0            0.0              0.0   \n",
       "2              0.0                    0.0            0.0              0.0   \n",
       "3              0.0                    0.0            0.0              0.0   \n",
       "4              0.0                    0.0            0.0              0.0   \n",
       "\n",
       "   catching breath  large-for-dates fetus  immobile  homicidal thoughts  \n",
       "0              0.0                    0.0       0.0                 0.0  \n",
       "1              0.0                    0.0       0.0                 0.0  \n",
       "2              0.0                    0.0       0.0                 0.0  \n",
       "3              0.0                    0.0       0.0                 0.0  \n",
       "4              0.0                    0.0       0.0                 0.0  \n",
       "\n",
       "[5 rows x 405 columns]"
      ]
     },
     "execution_count": 24,
     "metadata": {},
     "output_type": "execute_result"
    }
   ],
   "source": [
    "df_ohe.head()"
   ]
  },
  {
   "cell_type": "code",
   "execution_count": 25,
   "metadata": {},
   "outputs": [
    {
     "data": {
      "text/plain": [
       "2129"
      ]
     },
     "execution_count": 25,
     "metadata": {},
     "output_type": "execute_result"
    }
   ],
   "source": [
    "len(df_ohe)"
   ]
  },
  {
   "cell_type": "code",
   "execution_count": 26,
   "metadata": {},
   "outputs": [
    {
     "data": {
      "text/plain": [
       "0    hypertensive disease\n",
       "1    hypertensive disease\n",
       "2    hypertensive disease\n",
       "3    hypertensive disease\n",
       "4    hypertensive disease\n",
       "Name: disease, dtype: object"
      ]
     },
     "execution_count": 26,
     "metadata": {},
     "output_type": "execute_result"
    }
   ],
   "source": [
    "# Disease Dataframe\n",
    "df_disease = df['disease']\n",
    "df_disease.head()"
   ]
  },
  {
   "cell_type": "code",
   "execution_count": 27,
   "metadata": {},
   "outputs": [
    {
     "data": {
      "text/html": [
       "<div>\n",
       "<style scoped>\n",
       "    .dataframe tbody tr th:only-of-type {\n",
       "        vertical-align: middle;\n",
       "    }\n",
       "\n",
       "    .dataframe tbody tr th {\n",
       "        vertical-align: top;\n",
       "    }\n",
       "\n",
       "    .dataframe thead th {\n",
       "        text-align: right;\n",
       "    }\n",
       "</style>\n",
       "<table border=\"1\" class=\"dataframe\">\n",
       "  <thead>\n",
       "    <tr style=\"text-align: right;\">\n",
       "      <th></th>\n",
       "      <th>disease</th>\n",
       "      <th>shortness of breath</th>\n",
       "      <th>dizziness</th>\n",
       "      <th>asthenia</th>\n",
       "      <th>fall</th>\n",
       "      <th>syncope</th>\n",
       "      <th>vertigo</th>\n",
       "      <th>sweat</th>\n",
       "      <th>sweating increased</th>\n",
       "      <th>palpitation</th>\n",
       "      <th>...</th>\n",
       "      <th>feces in rectum</th>\n",
       "      <th>prodrome</th>\n",
       "      <th>hypoproteinemia</th>\n",
       "      <th>alcohol binge episode</th>\n",
       "      <th>abdomen acute</th>\n",
       "      <th>air fluid level</th>\n",
       "      <th>catching breath</th>\n",
       "      <th>large-for-dates fetus</th>\n",
       "      <th>immobile</th>\n",
       "      <th>homicidal thoughts</th>\n",
       "    </tr>\n",
       "  </thead>\n",
       "  <tbody>\n",
       "    <tr>\n",
       "      <th>0</th>\n",
       "      <td>hypertensive disease</td>\n",
       "      <td>0.0</td>\n",
       "      <td>0.0</td>\n",
       "      <td>0.0</td>\n",
       "      <td>0.0</td>\n",
       "      <td>0.0</td>\n",
       "      <td>0.0</td>\n",
       "      <td>0.0</td>\n",
       "      <td>0.0</td>\n",
       "      <td>0.0</td>\n",
       "      <td>...</td>\n",
       "      <td>0.0</td>\n",
       "      <td>0.0</td>\n",
       "      <td>0.0</td>\n",
       "      <td>0.0</td>\n",
       "      <td>0.0</td>\n",
       "      <td>0.0</td>\n",
       "      <td>0.0</td>\n",
       "      <td>0.0</td>\n",
       "      <td>0.0</td>\n",
       "      <td>0.0</td>\n",
       "    </tr>\n",
       "    <tr>\n",
       "      <th>1</th>\n",
       "      <td>hypertensive disease</td>\n",
       "      <td>0.0</td>\n",
       "      <td>0.0</td>\n",
       "      <td>0.0</td>\n",
       "      <td>0.0</td>\n",
       "      <td>0.0</td>\n",
       "      <td>0.0</td>\n",
       "      <td>0.0</td>\n",
       "      <td>0.0</td>\n",
       "      <td>0.0</td>\n",
       "      <td>...</td>\n",
       "      <td>0.0</td>\n",
       "      <td>0.0</td>\n",
       "      <td>0.0</td>\n",
       "      <td>0.0</td>\n",
       "      <td>0.0</td>\n",
       "      <td>0.0</td>\n",
       "      <td>0.0</td>\n",
       "      <td>0.0</td>\n",
       "      <td>0.0</td>\n",
       "      <td>0.0</td>\n",
       "    </tr>\n",
       "    <tr>\n",
       "      <th>2</th>\n",
       "      <td>hypertensive disease</td>\n",
       "      <td>0.0</td>\n",
       "      <td>0.0</td>\n",
       "      <td>0.0</td>\n",
       "      <td>0.0</td>\n",
       "      <td>0.0</td>\n",
       "      <td>0.0</td>\n",
       "      <td>0.0</td>\n",
       "      <td>0.0</td>\n",
       "      <td>0.0</td>\n",
       "      <td>...</td>\n",
       "      <td>0.0</td>\n",
       "      <td>0.0</td>\n",
       "      <td>0.0</td>\n",
       "      <td>0.0</td>\n",
       "      <td>0.0</td>\n",
       "      <td>0.0</td>\n",
       "      <td>0.0</td>\n",
       "      <td>0.0</td>\n",
       "      <td>0.0</td>\n",
       "      <td>0.0</td>\n",
       "    </tr>\n",
       "    <tr>\n",
       "      <th>3</th>\n",
       "      <td>hypertensive disease</td>\n",
       "      <td>0.0</td>\n",
       "      <td>0.0</td>\n",
       "      <td>0.0</td>\n",
       "      <td>0.0</td>\n",
       "      <td>0.0</td>\n",
       "      <td>0.0</td>\n",
       "      <td>0.0</td>\n",
       "      <td>0.0</td>\n",
       "      <td>0.0</td>\n",
       "      <td>...</td>\n",
       "      <td>0.0</td>\n",
       "      <td>0.0</td>\n",
       "      <td>0.0</td>\n",
       "      <td>0.0</td>\n",
       "      <td>0.0</td>\n",
       "      <td>0.0</td>\n",
       "      <td>0.0</td>\n",
       "      <td>0.0</td>\n",
       "      <td>0.0</td>\n",
       "      <td>0.0</td>\n",
       "    </tr>\n",
       "    <tr>\n",
       "      <th>4</th>\n",
       "      <td>hypertensive disease</td>\n",
       "      <td>0.0</td>\n",
       "      <td>0.0</td>\n",
       "      <td>0.0</td>\n",
       "      <td>0.0</td>\n",
       "      <td>0.0</td>\n",
       "      <td>0.0</td>\n",
       "      <td>0.0</td>\n",
       "      <td>0.0</td>\n",
       "      <td>0.0</td>\n",
       "      <td>...</td>\n",
       "      <td>0.0</td>\n",
       "      <td>0.0</td>\n",
       "      <td>0.0</td>\n",
       "      <td>0.0</td>\n",
       "      <td>0.0</td>\n",
       "      <td>0.0</td>\n",
       "      <td>0.0</td>\n",
       "      <td>0.0</td>\n",
       "      <td>0.0</td>\n",
       "      <td>0.0</td>\n",
       "    </tr>\n",
       "  </tbody>\n",
       "</table>\n",
       "<p>5 rows × 406 columns</p>\n",
       "</div>"
      ],
      "text/plain": [
       "                disease  shortness of breath  dizziness  asthenia  fall  \\\n",
       "0  hypertensive disease                  0.0        0.0       0.0   0.0   \n",
       "1  hypertensive disease                  0.0        0.0       0.0   0.0   \n",
       "2  hypertensive disease                  0.0        0.0       0.0   0.0   \n",
       "3  hypertensive disease                  0.0        0.0       0.0   0.0   \n",
       "4  hypertensive disease                  0.0        0.0       0.0   0.0   \n",
       "\n",
       "   syncope  vertigo  sweat  sweating increased  palpitation  ...  \\\n",
       "0      0.0      0.0    0.0                 0.0          0.0  ...   \n",
       "1      0.0      0.0    0.0                 0.0          0.0  ...   \n",
       "2      0.0      0.0    0.0                 0.0          0.0  ...   \n",
       "3      0.0      0.0    0.0                 0.0          0.0  ...   \n",
       "4      0.0      0.0    0.0                 0.0          0.0  ...   \n",
       "\n",
       "   feces in rectum  prodrome  hypoproteinemia  alcohol binge episode  \\\n",
       "0              0.0       0.0              0.0                    0.0   \n",
       "1              0.0       0.0              0.0                    0.0   \n",
       "2              0.0       0.0              0.0                    0.0   \n",
       "3              0.0       0.0              0.0                    0.0   \n",
       "4              0.0       0.0              0.0                    0.0   \n",
       "\n",
       "   abdomen acute  air fluid level  catching breath  large-for-dates fetus  \\\n",
       "0            0.0              0.0              0.0                    0.0   \n",
       "1            0.0              0.0              0.0                    0.0   \n",
       "2            0.0              0.0              0.0                    0.0   \n",
       "3            0.0              0.0              0.0                    0.0   \n",
       "4            0.0              0.0              0.0                    0.0   \n",
       "\n",
       "   immobile  homicidal thoughts  \n",
       "0       0.0                 0.0  \n",
       "1       0.0                 0.0  \n",
       "2       0.0                 0.0  \n",
       "3       0.0                 0.0  \n",
       "4       0.0                 0.0  \n",
       "\n",
       "[5 rows x 406 columns]"
      ]
     },
     "execution_count": 27,
     "metadata": {},
     "output_type": "execute_result"
    }
   ],
   "source": [
    "# Concatenate OHE Labels with the Disease Column\n",
    "df_concat = pd.concat([df_disease,df_ohe], axis=1)\n",
    "df_concat.head()"
   ]
  },
  {
   "cell_type": "code",
   "execution_count": 28,
   "metadata": {},
   "outputs": [],
   "source": [
    "df_concat.drop_duplicates(keep='first',inplace=True)"
   ]
  },
  {
   "cell_type": "code",
   "execution_count": 29,
   "metadata": {},
   "outputs": [
    {
     "data": {
      "text/html": [
       "<div>\n",
       "<style scoped>\n",
       "    .dataframe tbody tr th:only-of-type {\n",
       "        vertical-align: middle;\n",
       "    }\n",
       "\n",
       "    .dataframe tbody tr th {\n",
       "        vertical-align: top;\n",
       "    }\n",
       "\n",
       "    .dataframe thead th {\n",
       "        text-align: right;\n",
       "    }\n",
       "</style>\n",
       "<table border=\"1\" class=\"dataframe\">\n",
       "  <thead>\n",
       "    <tr style=\"text-align: right;\">\n",
       "      <th></th>\n",
       "      <th>disease</th>\n",
       "      <th>shortness of breath</th>\n",
       "      <th>dizziness</th>\n",
       "      <th>asthenia</th>\n",
       "      <th>fall</th>\n",
       "      <th>syncope</th>\n",
       "      <th>vertigo</th>\n",
       "      <th>sweat</th>\n",
       "      <th>sweating increased</th>\n",
       "      <th>palpitation</th>\n",
       "      <th>...</th>\n",
       "      <th>feces in rectum</th>\n",
       "      <th>prodrome</th>\n",
       "      <th>hypoproteinemia</th>\n",
       "      <th>alcohol binge episode</th>\n",
       "      <th>abdomen acute</th>\n",
       "      <th>air fluid level</th>\n",
       "      <th>catching breath</th>\n",
       "      <th>large-for-dates fetus</th>\n",
       "      <th>immobile</th>\n",
       "      <th>homicidal thoughts</th>\n",
       "    </tr>\n",
       "  </thead>\n",
       "  <tbody>\n",
       "    <tr>\n",
       "      <th>0</th>\n",
       "      <td>hypertensive disease</td>\n",
       "      <td>0.0</td>\n",
       "      <td>0.0</td>\n",
       "      <td>0.0</td>\n",
       "      <td>0.0</td>\n",
       "      <td>0.0</td>\n",
       "      <td>0.0</td>\n",
       "      <td>0.0</td>\n",
       "      <td>0.0</td>\n",
       "      <td>0.0</td>\n",
       "      <td>...</td>\n",
       "      <td>0.0</td>\n",
       "      <td>0.0</td>\n",
       "      <td>0.0</td>\n",
       "      <td>0.0</td>\n",
       "      <td>0.0</td>\n",
       "      <td>0.0</td>\n",
       "      <td>0.0</td>\n",
       "      <td>0.0</td>\n",
       "      <td>0.0</td>\n",
       "      <td>0.0</td>\n",
       "    </tr>\n",
       "    <tr>\n",
       "      <th>1</th>\n",
       "      <td>hypertensive disease</td>\n",
       "      <td>0.0</td>\n",
       "      <td>0.0</td>\n",
       "      <td>0.0</td>\n",
       "      <td>0.0</td>\n",
       "      <td>0.0</td>\n",
       "      <td>0.0</td>\n",
       "      <td>0.0</td>\n",
       "      <td>0.0</td>\n",
       "      <td>0.0</td>\n",
       "      <td>...</td>\n",
       "      <td>0.0</td>\n",
       "      <td>0.0</td>\n",
       "      <td>0.0</td>\n",
       "      <td>0.0</td>\n",
       "      <td>0.0</td>\n",
       "      <td>0.0</td>\n",
       "      <td>0.0</td>\n",
       "      <td>0.0</td>\n",
       "      <td>0.0</td>\n",
       "      <td>0.0</td>\n",
       "    </tr>\n",
       "    <tr>\n",
       "      <th>2</th>\n",
       "      <td>hypertensive disease</td>\n",
       "      <td>0.0</td>\n",
       "      <td>0.0</td>\n",
       "      <td>0.0</td>\n",
       "      <td>0.0</td>\n",
       "      <td>0.0</td>\n",
       "      <td>0.0</td>\n",
       "      <td>0.0</td>\n",
       "      <td>0.0</td>\n",
       "      <td>0.0</td>\n",
       "      <td>...</td>\n",
       "      <td>0.0</td>\n",
       "      <td>0.0</td>\n",
       "      <td>0.0</td>\n",
       "      <td>0.0</td>\n",
       "      <td>0.0</td>\n",
       "      <td>0.0</td>\n",
       "      <td>0.0</td>\n",
       "      <td>0.0</td>\n",
       "      <td>0.0</td>\n",
       "      <td>0.0</td>\n",
       "    </tr>\n",
       "    <tr>\n",
       "      <th>3</th>\n",
       "      <td>hypertensive disease</td>\n",
       "      <td>0.0</td>\n",
       "      <td>0.0</td>\n",
       "      <td>0.0</td>\n",
       "      <td>0.0</td>\n",
       "      <td>0.0</td>\n",
       "      <td>0.0</td>\n",
       "      <td>0.0</td>\n",
       "      <td>0.0</td>\n",
       "      <td>0.0</td>\n",
       "      <td>...</td>\n",
       "      <td>0.0</td>\n",
       "      <td>0.0</td>\n",
       "      <td>0.0</td>\n",
       "      <td>0.0</td>\n",
       "      <td>0.0</td>\n",
       "      <td>0.0</td>\n",
       "      <td>0.0</td>\n",
       "      <td>0.0</td>\n",
       "      <td>0.0</td>\n",
       "      <td>0.0</td>\n",
       "    </tr>\n",
       "    <tr>\n",
       "      <th>4</th>\n",
       "      <td>hypertensive disease</td>\n",
       "      <td>0.0</td>\n",
       "      <td>0.0</td>\n",
       "      <td>0.0</td>\n",
       "      <td>0.0</td>\n",
       "      <td>0.0</td>\n",
       "      <td>0.0</td>\n",
       "      <td>0.0</td>\n",
       "      <td>0.0</td>\n",
       "      <td>0.0</td>\n",
       "      <td>...</td>\n",
       "      <td>0.0</td>\n",
       "      <td>0.0</td>\n",
       "      <td>0.0</td>\n",
       "      <td>0.0</td>\n",
       "      <td>0.0</td>\n",
       "      <td>0.0</td>\n",
       "      <td>0.0</td>\n",
       "      <td>0.0</td>\n",
       "      <td>0.0</td>\n",
       "      <td>0.0</td>\n",
       "    </tr>\n",
       "  </tbody>\n",
       "</table>\n",
       "<p>5 rows × 406 columns</p>\n",
       "</div>"
      ],
      "text/plain": [
       "                disease  shortness of breath  dizziness  asthenia  fall  \\\n",
       "0  hypertensive disease                  0.0        0.0       0.0   0.0   \n",
       "1  hypertensive disease                  0.0        0.0       0.0   0.0   \n",
       "2  hypertensive disease                  0.0        0.0       0.0   0.0   \n",
       "3  hypertensive disease                  0.0        0.0       0.0   0.0   \n",
       "4  hypertensive disease                  0.0        0.0       0.0   0.0   \n",
       "\n",
       "   syncope  vertigo  sweat  sweating increased  palpitation  ...  \\\n",
       "0      0.0      0.0    0.0                 0.0          0.0  ...   \n",
       "1      0.0      0.0    0.0                 0.0          0.0  ...   \n",
       "2      0.0      0.0    0.0                 0.0          0.0  ...   \n",
       "3      0.0      0.0    0.0                 0.0          0.0  ...   \n",
       "4      0.0      0.0    0.0                 0.0          0.0  ...   \n",
       "\n",
       "   feces in rectum  prodrome  hypoproteinemia  alcohol binge episode  \\\n",
       "0              0.0       0.0              0.0                    0.0   \n",
       "1              0.0       0.0              0.0                    0.0   \n",
       "2              0.0       0.0              0.0                    0.0   \n",
       "3              0.0       0.0              0.0                    0.0   \n",
       "4              0.0       0.0              0.0                    0.0   \n",
       "\n",
       "   abdomen acute  air fluid level  catching breath  large-for-dates fetus  \\\n",
       "0            0.0              0.0              0.0                    0.0   \n",
       "1            0.0              0.0              0.0                    0.0   \n",
       "2            0.0              0.0              0.0                    0.0   \n",
       "3            0.0              0.0              0.0                    0.0   \n",
       "4            0.0              0.0              0.0                    0.0   \n",
       "\n",
       "   immobile  homicidal thoughts  \n",
       "0       0.0                 0.0  \n",
       "1       0.0                 0.0  \n",
       "2       0.0                 0.0  \n",
       "3       0.0                 0.0  \n",
       "4       0.0                 0.0  \n",
       "\n",
       "[5 rows x 406 columns]"
      ]
     },
     "execution_count": 29,
     "metadata": {},
     "output_type": "execute_result"
    }
   ],
   "source": [
    "df_concat.head()"
   ]
  },
  {
   "cell_type": "code",
   "execution_count": 30,
   "metadata": {},
   "outputs": [
    {
     "data": {
      "text/plain": [
       "2115"
      ]
     },
     "execution_count": 30,
     "metadata": {},
     "output_type": "execute_result"
    }
   ],
   "source": [
    "len(df_concat)"
   ]
  },
  {
   "cell_type": "code",
   "execution_count": 31,
   "metadata": {},
   "outputs": [
    {
     "data": {
      "text/plain": [
       "Index([              'disease',   'shortness of breath',\n",
       "                   'dizziness',              'asthenia',\n",
       "                        'fall',               'syncope',\n",
       "                     'vertigo',                 'sweat',\n",
       "          'sweating increased',           'palpitation',\n",
       "       ...\n",
       "             'feces in rectum',              'prodrome',\n",
       "             'hypoproteinemia', 'alcohol binge episode',\n",
       "               'abdomen acute',       'air fluid level',\n",
       "             'catching breath', 'large-for-dates fetus',\n",
       "                    'immobile',    'homicidal thoughts'],\n",
       "      dtype='object', length=406)"
      ]
     },
     "execution_count": 31,
     "metadata": {},
     "output_type": "execute_result"
    }
   ],
   "source": [
    "cols = df_concat.columns\n",
    "cols"
   ]
  },
  {
   "cell_type": "code",
   "execution_count": 32,
   "metadata": {},
   "outputs": [],
   "source": [
    "cols = cols[1:]"
   ]
  },
  {
   "cell_type": "code",
   "execution_count": 33,
   "metadata": {},
   "outputs": [
    {
     "data": {
      "text/html": [
       "<div>\n",
       "<style scoped>\n",
       "    .dataframe tbody tr th:only-of-type {\n",
       "        vertical-align: middle;\n",
       "    }\n",
       "\n",
       "    .dataframe tbody tr th {\n",
       "        vertical-align: top;\n",
       "    }\n",
       "\n",
       "    .dataframe thead th {\n",
       "        text-align: right;\n",
       "    }\n",
       "</style>\n",
       "<table border=\"1\" class=\"dataframe\">\n",
       "  <thead>\n",
       "    <tr style=\"text-align: right;\">\n",
       "      <th></th>\n",
       "      <th>disease</th>\n",
       "      <th>shortness of breath</th>\n",
       "      <th>dizziness</th>\n",
       "      <th>asthenia</th>\n",
       "      <th>fall</th>\n",
       "      <th>syncope</th>\n",
       "      <th>vertigo</th>\n",
       "      <th>sweat</th>\n",
       "      <th>sweating increased</th>\n",
       "      <th>palpitation</th>\n",
       "      <th>...</th>\n",
       "      <th>feces in rectum</th>\n",
       "      <th>prodrome</th>\n",
       "      <th>hypoproteinemia</th>\n",
       "      <th>alcohol binge episode</th>\n",
       "      <th>abdomen acute</th>\n",
       "      <th>air fluid level</th>\n",
       "      <th>catching breath</th>\n",
       "      <th>large-for-dates fetus</th>\n",
       "      <th>immobile</th>\n",
       "      <th>homicidal thoughts</th>\n",
       "    </tr>\n",
       "  </thead>\n",
       "  <tbody>\n",
       "    <tr>\n",
       "      <th>0</th>\n",
       "      <td>Alzheimer's disease</td>\n",
       "      <td>0.0</td>\n",
       "      <td>0.0</td>\n",
       "      <td>0.0</td>\n",
       "      <td>0.0</td>\n",
       "      <td>0.0</td>\n",
       "      <td>0.0</td>\n",
       "      <td>0.0</td>\n",
       "      <td>0.0</td>\n",
       "      <td>0.0</td>\n",
       "      <td>...</td>\n",
       "      <td>0.0</td>\n",
       "      <td>0.0</td>\n",
       "      <td>0.0</td>\n",
       "      <td>0.0</td>\n",
       "      <td>1.0</td>\n",
       "      <td>0.0</td>\n",
       "      <td>0.0</td>\n",
       "      <td>0.0</td>\n",
       "      <td>0.0</td>\n",
       "      <td>0.0</td>\n",
       "    </tr>\n",
       "    <tr>\n",
       "      <th>1</th>\n",
       "      <td>HIV</td>\n",
       "      <td>0.0</td>\n",
       "      <td>0.0</td>\n",
       "      <td>0.0</td>\n",
       "      <td>0.0</td>\n",
       "      <td>0.0</td>\n",
       "      <td>0.0</td>\n",
       "      <td>0.0</td>\n",
       "      <td>0.0</td>\n",
       "      <td>0.0</td>\n",
       "      <td>...</td>\n",
       "      <td>0.0</td>\n",
       "      <td>0.0</td>\n",
       "      <td>0.0</td>\n",
       "      <td>0.0</td>\n",
       "      <td>0.0</td>\n",
       "      <td>0.0</td>\n",
       "      <td>0.0</td>\n",
       "      <td>0.0</td>\n",
       "      <td>0.0</td>\n",
       "      <td>1.0</td>\n",
       "    </tr>\n",
       "    <tr>\n",
       "      <th>2</th>\n",
       "      <td>Pneumocystis�carinii�pneumonia</td>\n",
       "      <td>0.0</td>\n",
       "      <td>0.0</td>\n",
       "      <td>0.0</td>\n",
       "      <td>0.0</td>\n",
       "      <td>0.0</td>\n",
       "      <td>0.0</td>\n",
       "      <td>0.0</td>\n",
       "      <td>0.0</td>\n",
       "      <td>0.0</td>\n",
       "      <td>...</td>\n",
       "      <td>0.0</td>\n",
       "      <td>0.0</td>\n",
       "      <td>0.0</td>\n",
       "      <td>0.0</td>\n",
       "      <td>0.0</td>\n",
       "      <td>0.0</td>\n",
       "      <td>0.0</td>\n",
       "      <td>0.0</td>\n",
       "      <td>1.0</td>\n",
       "      <td>0.0</td>\n",
       "    </tr>\n",
       "    <tr>\n",
       "      <th>3</th>\n",
       "      <td>accident�cerebrovascular</td>\n",
       "      <td>0.0</td>\n",
       "      <td>0.0</td>\n",
       "      <td>0.0</td>\n",
       "      <td>0.0</td>\n",
       "      <td>0.0</td>\n",
       "      <td>0.0</td>\n",
       "      <td>0.0</td>\n",
       "      <td>0.0</td>\n",
       "      <td>0.0</td>\n",
       "      <td>...</td>\n",
       "      <td>0.0</td>\n",
       "      <td>0.0</td>\n",
       "      <td>0.0</td>\n",
       "      <td>0.0</td>\n",
       "      <td>0.0</td>\n",
       "      <td>0.0</td>\n",
       "      <td>0.0</td>\n",
       "      <td>0.0</td>\n",
       "      <td>0.0</td>\n",
       "      <td>0.0</td>\n",
       "    </tr>\n",
       "    <tr>\n",
       "      <th>4</th>\n",
       "      <td>acquired�immuno-deficiency syndrome</td>\n",
       "      <td>0.0</td>\n",
       "      <td>0.0</td>\n",
       "      <td>0.0</td>\n",
       "      <td>0.0</td>\n",
       "      <td>0.0</td>\n",
       "      <td>0.0</td>\n",
       "      <td>0.0</td>\n",
       "      <td>0.0</td>\n",
       "      <td>0.0</td>\n",
       "      <td>...</td>\n",
       "      <td>0.0</td>\n",
       "      <td>0.0</td>\n",
       "      <td>0.0</td>\n",
       "      <td>0.0</td>\n",
       "      <td>0.0</td>\n",
       "      <td>0.0</td>\n",
       "      <td>0.0</td>\n",
       "      <td>0.0</td>\n",
       "      <td>0.0</td>\n",
       "      <td>1.0</td>\n",
       "    </tr>\n",
       "  </tbody>\n",
       "</table>\n",
       "<p>5 rows × 406 columns</p>\n",
       "</div>"
      ],
      "text/plain": [
       "                               disease  shortness of breath  dizziness  \\\n",
       "0                  Alzheimer's disease                  0.0        0.0   \n",
       "1                                  HIV                  0.0        0.0   \n",
       "2       Pneumocystis�carinii�pneumonia                  0.0        0.0   \n",
       "3             accident�cerebrovascular                  0.0        0.0   \n",
       "4  acquired�immuno-deficiency syndrome                  0.0        0.0   \n",
       "\n",
       "   asthenia  fall  syncope  vertigo  sweat  sweating increased  palpitation  \\\n",
       "0       0.0   0.0      0.0      0.0    0.0                 0.0          0.0   \n",
       "1       0.0   0.0      0.0      0.0    0.0                 0.0          0.0   \n",
       "2       0.0   0.0      0.0      0.0    0.0                 0.0          0.0   \n",
       "3       0.0   0.0      0.0      0.0    0.0                 0.0          0.0   \n",
       "4       0.0   0.0      0.0      0.0    0.0                 0.0          0.0   \n",
       "\n",
       "   ...  feces in rectum  prodrome  hypoproteinemia  alcohol binge episode  \\\n",
       "0  ...              0.0       0.0              0.0                    0.0   \n",
       "1  ...              0.0       0.0              0.0                    0.0   \n",
       "2  ...              0.0       0.0              0.0                    0.0   \n",
       "3  ...              0.0       0.0              0.0                    0.0   \n",
       "4  ...              0.0       0.0              0.0                    0.0   \n",
       "\n",
       "   abdomen acute  air fluid level  catching breath  large-for-dates fetus  \\\n",
       "0            1.0              0.0              0.0                    0.0   \n",
       "1            0.0              0.0              0.0                    0.0   \n",
       "2            0.0              0.0              0.0                    0.0   \n",
       "3            0.0              0.0              0.0                    0.0   \n",
       "4            0.0              0.0              0.0                    0.0   \n",
       "\n",
       "   immobile  homicidal thoughts  \n",
       "0       0.0                 0.0  \n",
       "1       0.0                 1.0  \n",
       "2       1.0                 0.0  \n",
       "3       0.0                 0.0  \n",
       "4       0.0                 1.0  \n",
       "\n",
       "[5 rows x 406 columns]"
      ]
     },
     "execution_count": 33,
     "metadata": {},
     "output_type": "execute_result"
    }
   ],
   "source": [
    "# Since, every disease has multiple symptoms, combine all symptoms per disease per row\n",
    "df_concat = df_concat.groupby('disease').sum()\n",
    "df_concat = df_concat.reset_index()\n",
    "df_concat[:5]"
   ]
  },
  {
   "cell_type": "code",
   "execution_count": 34,
   "metadata": {},
   "outputs": [
    {
     "data": {
      "text/plain": [
       "149"
      ]
     },
     "execution_count": 34,
     "metadata": {},
     "output_type": "execute_result"
    }
   ],
   "source": [
    "len(df_concat)"
   ]
  },
  {
   "cell_type": "code",
   "execution_count": 35,
   "metadata": {},
   "outputs": [],
   "source": [
    "df_concat.to_csv(\"./dataset/final_data.csv\", index=False)"
   ]
  },
  {
   "cell_type": "code",
   "execution_count": 36,
   "metadata": {},
   "outputs": [],
   "source": [
    "# One Hot Encoded Features\n",
    "X = df_concat[cols]\n",
    "\n",
    "# Labels\n",
    "y = df_concat['disease']"
   ]
  },
  {
   "cell_type": "markdown",
   "metadata": {},
   "source": [
    "## Model Training"
   ]
  },
  {
   "cell_type": "code",
   "execution_count": 37,
   "metadata": {},
   "outputs": [],
   "source": [
    "from sklearn.model_selection import train_test_split\n",
    "from sklearn.naive_bayes import MultinomialNB\n",
    "from sklearn import tree\n",
    "from sklearn.tree import DecisionTreeClassifier, export_graphviz"
   ]
  },
  {
   "cell_type": "code",
   "execution_count": 38,
   "metadata": {},
   "outputs": [],
   "source": [
    "# Train Test Split\n",
    "X_train, X_test, y_train, y_test = train_test_split(X, y, test_size=0.2, random_state=101)"
   ]
  },
  {
   "cell_type": "code",
   "execution_count": 39,
   "metadata": {},
   "outputs": [
    {
     "data": {
      "text/plain": [
       "(119, 119)"
      ]
     },
     "execution_count": 39,
     "metadata": {},
     "output_type": "execute_result"
    }
   ],
   "source": [
    "len(X_train), len(y_train)"
   ]
  },
  {
   "cell_type": "code",
   "execution_count": 40,
   "metadata": {},
   "outputs": [
    {
     "data": {
      "text/plain": [
       "(30, 30)"
      ]
     },
     "execution_count": 40,
     "metadata": {},
     "output_type": "execute_result"
    }
   ],
   "source": [
    "len(X_test), len(y_test)"
   ]
  },
  {
   "cell_type": "code",
   "execution_count": 41,
   "metadata": {},
   "outputs": [],
   "source": [
    "dt = DecisionTreeClassifier()\n",
    "clf_dt=dt.fit(X, y)"
   ]
  },
  {
   "cell_type": "code",
   "execution_count": 42,
   "metadata": {},
   "outputs": [
    {
     "data": {
      "text/plain": [
       "0.8993288590604027"
      ]
     },
     "execution_count": 42,
     "metadata": {},
     "output_type": "execute_result"
    }
   ],
   "source": [
    "clf_dt.score(X, y)"
   ]
  },
  {
   "cell_type": "code",
   "execution_count": 43,
   "metadata": {},
   "outputs": [],
   "source": [
    "export_graphviz(dt, \n",
    "                out_file='./tree.dot', \n",
    "                feature_names=cols)"
   ]
  },
  {
   "cell_type": "code",
   "execution_count": 44,
   "metadata": {},
   "outputs": [
    {
     "name": "stdout",
     "output_type": "stream",
     "text": [
      "Requirement already satisfied: graphviz in c:\\users\\dell\\anaconda3\\lib\\site-packages (0.18.2)\n"
     ]
    }
   ],
   "source": [
    "!pip install graphviz"
   ]
  },
  {
   "cell_type": "code",
   "execution_count": 46,
   "metadata": {},
   "outputs": [
    {
     "ename": "ExecutableNotFound",
     "evalue": "failed to execute WindowsPath('dot'), make sure the Graphviz executables are on your systems' PATH",
     "output_type": "error",
     "traceback": [
      "\u001b[1;31m---------------------------------------------------------------------------\u001b[0m",
      "\u001b[1;31mFileNotFoundError\u001b[0m                         Traceback (most recent call last)",
      "\u001b[1;32m~\\anaconda3\\lib\\site-packages\\graphviz\\backend\\execute.py\u001b[0m in \u001b[0;36mrun_check\u001b[1;34m(cmd, input_lines, encoding, capture_output, quiet, **kwargs)\u001b[0m\n\u001b[0;32m     82\u001b[0m             \u001b[1;32massert\u001b[0m \u001b[0miter\u001b[0m\u001b[1;33m(\u001b[0m\u001b[0minput_lines\u001b[0m\u001b[1;33m)\u001b[0m \u001b[1;32mis\u001b[0m \u001b[0minput_lines\u001b[0m\u001b[1;33m\u001b[0m\u001b[1;33m\u001b[0m\u001b[0m\n\u001b[1;32m---> 83\u001b[1;33m             \u001b[0mproc\u001b[0m \u001b[1;33m=\u001b[0m \u001b[0m_run_input_lines\u001b[0m\u001b[1;33m(\u001b[0m\u001b[0mcmd\u001b[0m\u001b[1;33m,\u001b[0m \u001b[0minput_lines\u001b[0m\u001b[1;33m,\u001b[0m \u001b[0mkwargs\u001b[0m\u001b[1;33m=\u001b[0m\u001b[0mkwargs\u001b[0m\u001b[1;33m)\u001b[0m\u001b[1;33m\u001b[0m\u001b[1;33m\u001b[0m\u001b[0m\n\u001b[0m\u001b[0;32m     84\u001b[0m         \u001b[1;32melse\u001b[0m\u001b[1;33m:\u001b[0m\u001b[1;33m\u001b[0m\u001b[1;33m\u001b[0m\u001b[0m\n",
      "\u001b[1;32m~\\anaconda3\\lib\\site-packages\\graphviz\\backend\\execute.py\u001b[0m in \u001b[0;36m_run_input_lines\u001b[1;34m(cmd, input_lines, kwargs)\u001b[0m\n\u001b[0;32m    102\u001b[0m \u001b[1;32mdef\u001b[0m \u001b[0m_run_input_lines\u001b[0m\u001b[1;33m(\u001b[0m\u001b[0mcmd\u001b[0m\u001b[1;33m,\u001b[0m \u001b[0minput_lines\u001b[0m\u001b[1;33m,\u001b[0m \u001b[1;33m*\u001b[0m\u001b[1;33m,\u001b[0m \u001b[0mkwargs\u001b[0m\u001b[1;33m)\u001b[0m\u001b[1;33m:\u001b[0m\u001b[1;33m\u001b[0m\u001b[1;33m\u001b[0m\u001b[0m\n\u001b[1;32m--> 103\u001b[1;33m     \u001b[0mpopen\u001b[0m \u001b[1;33m=\u001b[0m \u001b[0msubprocess\u001b[0m\u001b[1;33m.\u001b[0m\u001b[0mPopen\u001b[0m\u001b[1;33m(\u001b[0m\u001b[0mcmd\u001b[0m\u001b[1;33m,\u001b[0m \u001b[0mstdin\u001b[0m\u001b[1;33m=\u001b[0m\u001b[0msubprocess\u001b[0m\u001b[1;33m.\u001b[0m\u001b[0mPIPE\u001b[0m\u001b[1;33m,\u001b[0m \u001b[1;33m**\u001b[0m\u001b[0mkwargs\u001b[0m\u001b[1;33m)\u001b[0m\u001b[1;33m\u001b[0m\u001b[1;33m\u001b[0m\u001b[0m\n\u001b[0m\u001b[0;32m    104\u001b[0m \u001b[1;33m\u001b[0m\u001b[0m\n",
      "\u001b[1;32m~\\anaconda3\\lib\\subprocess.py\u001b[0m in \u001b[0;36m__init__\u001b[1;34m(self, args, bufsize, executable, stdin, stdout, stderr, preexec_fn, close_fds, shell, cwd, env, universal_newlines, startupinfo, creationflags, restore_signals, start_new_session, pass_fds, encoding, errors, text)\u001b[0m\n\u001b[0;32m    857\u001b[0m \u001b[1;33m\u001b[0m\u001b[0m\n\u001b[1;32m--> 858\u001b[1;33m             self._execute_child(args, executable, preexec_fn, close_fds,\n\u001b[0m\u001b[0;32m    859\u001b[0m                                 \u001b[0mpass_fds\u001b[0m\u001b[1;33m,\u001b[0m \u001b[0mcwd\u001b[0m\u001b[1;33m,\u001b[0m \u001b[0menv\u001b[0m\u001b[1;33m,\u001b[0m\u001b[1;33m\u001b[0m\u001b[1;33m\u001b[0m\u001b[0m\n",
      "\u001b[1;32m~\\anaconda3\\lib\\subprocess.py\u001b[0m in \u001b[0;36m_execute_child\u001b[1;34m(self, args, executable, preexec_fn, close_fds, pass_fds, cwd, env, startupinfo, creationflags, shell, p2cread, p2cwrite, c2pread, c2pwrite, errread, errwrite, unused_restore_signals, unused_start_new_session)\u001b[0m\n\u001b[0;32m   1310\u001b[0m             \u001b[1;32mtry\u001b[0m\u001b[1;33m:\u001b[0m\u001b[1;33m\u001b[0m\u001b[1;33m\u001b[0m\u001b[0m\n\u001b[1;32m-> 1311\u001b[1;33m                 hp, ht, pid, tid = _winapi.CreateProcess(executable, args,\n\u001b[0m\u001b[0;32m   1312\u001b[0m                                          \u001b[1;31m# no special security\u001b[0m\u001b[1;33m\u001b[0m\u001b[1;33m\u001b[0m\u001b[1;33m\u001b[0m\u001b[0m\n",
      "\u001b[1;31mFileNotFoundError\u001b[0m: [WinError 2] The system cannot find the file specified",
      "\nThe above exception was the direct cause of the following exception:\n",
      "\u001b[1;31mExecutableNotFound\u001b[0m                        Traceback (most recent call last)",
      "\u001b[1;32m<ipython-input-46-b483e49f3a3e>\u001b[0m in \u001b[0;36m<module>\u001b[1;34m\u001b[0m\n\u001b[0;32m      6\u001b[0m                 feature_names=cols))\n\u001b[0;32m      7\u001b[0m \u001b[1;33m\u001b[0m\u001b[0m\n\u001b[1;32m----> 8\u001b[1;33m \u001b[0mpng_bytes\u001b[0m \u001b[1;33m=\u001b[0m \u001b[0mgraph\u001b[0m\u001b[1;33m.\u001b[0m\u001b[0mpipe\u001b[0m\u001b[1;33m(\u001b[0m\u001b[0mformat\u001b[0m\u001b[1;33m=\u001b[0m\u001b[1;34m'png'\u001b[0m\u001b[1;33m)\u001b[0m\u001b[1;33m\u001b[0m\u001b[1;33m\u001b[0m\u001b[0m\n\u001b[0m\u001b[0;32m      9\u001b[0m \u001b[1;33m\u001b[0m\u001b[0m\n\u001b[0;32m     10\u001b[0m \u001b[1;32mwith\u001b[0m \u001b[0mopen\u001b[0m\u001b[1;33m(\u001b[0m\u001b[1;34m'tree.png'\u001b[0m\u001b[1;33m,\u001b[0m\u001b[1;34m'wb'\u001b[0m\u001b[1;33m)\u001b[0m \u001b[1;32mas\u001b[0m \u001b[0mf\u001b[0m\u001b[1;33m:\u001b[0m\u001b[1;33m\u001b[0m\u001b[1;33m\u001b[0m\u001b[0m\n",
      "\u001b[1;32m~\\anaconda3\\lib\\site-packages\\graphviz\\piping.py\u001b[0m in \u001b[0;36mpipe\u001b[1;34m(self, format, renderer, formatter, quiet, engine, encoding)\u001b[0m\n\u001b[0;32m    114\u001b[0m             \u001b[0mraw\u001b[0m \u001b[1;33m=\u001b[0m \u001b[0mself\u001b[0m\u001b[1;33m.\u001b[0m\u001b[0m_pipe_lines\u001b[0m\u001b[1;33m(\u001b[0m\u001b[1;33m*\u001b[0m\u001b[0margs\u001b[0m\u001b[1;33m,\u001b[0m \u001b[0minput_encoding\u001b[0m\u001b[1;33m=\u001b[0m\u001b[0mself\u001b[0m\u001b[1;33m.\u001b[0m\u001b[0m_encoding\u001b[0m\u001b[1;33m,\u001b[0m \u001b[1;33m**\u001b[0m\u001b[0mkwargs\u001b[0m\u001b[1;33m)\u001b[0m\u001b[1;33m\u001b[0m\u001b[1;33m\u001b[0m\u001b[0m\n\u001b[0;32m    115\u001b[0m             \u001b[1;32mreturn\u001b[0m \u001b[0mraw\u001b[0m\u001b[1;33m.\u001b[0m\u001b[0mdecode\u001b[0m\u001b[1;33m(\u001b[0m\u001b[0mencoding\u001b[0m\u001b[1;33m)\u001b[0m\u001b[1;33m\u001b[0m\u001b[1;33m\u001b[0m\u001b[0m\n\u001b[1;32m--> 116\u001b[1;33m         \u001b[1;32mreturn\u001b[0m \u001b[0mself\u001b[0m\u001b[1;33m.\u001b[0m\u001b[0m_pipe_lines\u001b[0m\u001b[1;33m(\u001b[0m\u001b[1;33m*\u001b[0m\u001b[0margs\u001b[0m\u001b[1;33m,\u001b[0m \u001b[0minput_encoding\u001b[0m\u001b[1;33m=\u001b[0m\u001b[0mself\u001b[0m\u001b[1;33m.\u001b[0m\u001b[0m_encoding\u001b[0m\u001b[1;33m,\u001b[0m \u001b[1;33m**\u001b[0m\u001b[0mkwargs\u001b[0m\u001b[1;33m)\u001b[0m\u001b[1;33m\u001b[0m\u001b[1;33m\u001b[0m\u001b[0m\n\u001b[0m",
      "\u001b[1;32m~\\anaconda3\\lib\\site-packages\\graphviz\\backend\\piping.py\u001b[0m in \u001b[0;36mpipe_lines\u001b[1;34m(engine, format, input_lines, input_encoding, renderer, formatter, quiet)\u001b[0m\n\u001b[0;32m    147\u001b[0m     \u001b[0mkwargs\u001b[0m \u001b[1;33m=\u001b[0m \u001b[1;33m{\u001b[0m\u001b[1;34m'input_lines'\u001b[0m\u001b[1;33m:\u001b[0m \u001b[1;33m(\u001b[0m\u001b[0mline\u001b[0m\u001b[1;33m.\u001b[0m\u001b[0mencode\u001b[0m\u001b[1;33m(\u001b[0m\u001b[0minput_encoding\u001b[0m\u001b[1;33m)\u001b[0m \u001b[1;32mfor\u001b[0m \u001b[0mline\u001b[0m \u001b[1;32min\u001b[0m \u001b[0minput_lines\u001b[0m\u001b[1;33m)\u001b[0m\u001b[1;33m}\u001b[0m\u001b[1;33m\u001b[0m\u001b[1;33m\u001b[0m\u001b[0m\n\u001b[0;32m    148\u001b[0m \u001b[1;33m\u001b[0m\u001b[0m\n\u001b[1;32m--> 149\u001b[1;33m     \u001b[0mproc\u001b[0m \u001b[1;33m=\u001b[0m \u001b[0mexecute\u001b[0m\u001b[1;33m.\u001b[0m\u001b[0mrun_check\u001b[0m\u001b[1;33m(\u001b[0m\u001b[0mcmd\u001b[0m\u001b[1;33m,\u001b[0m \u001b[0mcapture_output\u001b[0m\u001b[1;33m=\u001b[0m\u001b[1;32mTrue\u001b[0m\u001b[1;33m,\u001b[0m \u001b[0mquiet\u001b[0m\u001b[1;33m=\u001b[0m\u001b[0mquiet\u001b[0m\u001b[1;33m,\u001b[0m \u001b[1;33m**\u001b[0m\u001b[0mkwargs\u001b[0m\u001b[1;33m)\u001b[0m\u001b[1;33m\u001b[0m\u001b[1;33m\u001b[0m\u001b[0m\n\u001b[0m\u001b[0;32m    150\u001b[0m     \u001b[1;32mreturn\u001b[0m \u001b[0mproc\u001b[0m\u001b[1;33m.\u001b[0m\u001b[0mstdout\u001b[0m\u001b[1;33m\u001b[0m\u001b[1;33m\u001b[0m\u001b[0m\n\u001b[0;32m    151\u001b[0m \u001b[1;33m\u001b[0m\u001b[0m\n",
      "\u001b[1;32m~\\anaconda3\\lib\\site-packages\\graphviz\\backend\\execute.py\u001b[0m in \u001b[0;36mrun_check\u001b[1;34m(cmd, input_lines, encoding, capture_output, quiet, **kwargs)\u001b[0m\n\u001b[0;32m     86\u001b[0m     \u001b[1;32mexcept\u001b[0m \u001b[0mOSError\u001b[0m \u001b[1;32mas\u001b[0m \u001b[0me\u001b[0m\u001b[1;33m:\u001b[0m\u001b[1;33m\u001b[0m\u001b[1;33m\u001b[0m\u001b[0m\n\u001b[0;32m     87\u001b[0m         \u001b[1;32mif\u001b[0m \u001b[0me\u001b[0m\u001b[1;33m.\u001b[0m\u001b[0merrno\u001b[0m \u001b[1;33m==\u001b[0m \u001b[0merrno\u001b[0m\u001b[1;33m.\u001b[0m\u001b[0mENOENT\u001b[0m\u001b[1;33m:\u001b[0m\u001b[1;33m\u001b[0m\u001b[1;33m\u001b[0m\u001b[0m\n\u001b[1;32m---> 88\u001b[1;33m             \u001b[1;32mraise\u001b[0m \u001b[0mExecutableNotFound\u001b[0m\u001b[1;33m(\u001b[0m\u001b[0mcmd\u001b[0m\u001b[1;33m)\u001b[0m \u001b[1;32mfrom\u001b[0m \u001b[0me\u001b[0m\u001b[1;33m\u001b[0m\u001b[1;33m\u001b[0m\u001b[0m\n\u001b[0m\u001b[0;32m     89\u001b[0m         \u001b[1;32mraise\u001b[0m\u001b[1;33m\u001b[0m\u001b[1;33m\u001b[0m\u001b[0m\n\u001b[0;32m     90\u001b[0m \u001b[1;33m\u001b[0m\u001b[0m\n",
      "\u001b[1;31mExecutableNotFound\u001b[0m: failed to execute WindowsPath('dot'), make sure the Graphviz executables are on your systems' PATH"
     ]
    }
   ],
   "source": [
    "from graphviz import Source\n",
    "from sklearn import tree\n",
    "\n",
    "graph = Source(export_graphviz(dt, \n",
    "                out_file=None, \n",
    "                feature_names=cols))\n",
    "\n",
    "png_bytes = graph.pipe(format='png')\n",
    "\n",
    "with open('tree.png','wb') as f:\n",
    "    f.write(png_bytes)"
   ]
  },
  {
   "cell_type": "code",
   "execution_count": 47,
   "metadata": {},
   "outputs": [
    {
     "name": "stdout",
     "output_type": "stream",
     "text": [
      "Requirement already satisfied: graphviz in c:\\users\\dell\\anaconda3\\lib\\site-packages (0.18.2)\n",
      "Note: you may need to restart the kernel to use updated packages.\n"
     ]
    }
   ],
   "source": [
    "pip install graphviz"
   ]
  },
  {
   "cell_type": "code",
   "execution_count": 48,
   "metadata": {},
   "outputs": [
    {
     "ename": "NameError",
     "evalue": "name 'png_bytes' is not defined",
     "output_type": "error",
     "traceback": [
      "\u001b[1;31m---------------------------------------------------------------------------\u001b[0m",
      "\u001b[1;31mNameError\u001b[0m                                 Traceback (most recent call last)",
      "\u001b[1;32m<ipython-input-48-f06a1b2997fd>\u001b[0m in \u001b[0;36m<module>\u001b[1;34m\u001b[0m\n\u001b[0;32m      1\u001b[0m \u001b[1;32mfrom\u001b[0m \u001b[0mIPython\u001b[0m\u001b[1;33m.\u001b[0m\u001b[0mdisplay\u001b[0m \u001b[1;32mimport\u001b[0m \u001b[0mImage\u001b[0m\u001b[1;33m\u001b[0m\u001b[1;33m\u001b[0m\u001b[0m\n\u001b[1;32m----> 2\u001b[1;33m \u001b[0mImage\u001b[0m\u001b[1;33m(\u001b[0m\u001b[0mpng_bytes\u001b[0m\u001b[1;33m)\u001b[0m\u001b[1;33m\u001b[0m\u001b[1;33m\u001b[0m\u001b[0m\n\u001b[0m",
      "\u001b[1;31mNameError\u001b[0m: name 'png_bytes' is not defined"
     ]
    }
   ],
   "source": [
    "from IPython.display import Image\n",
    "Image(png_bytes)"
   ]
  },
  {
   "cell_type": "code",
   "execution_count": null,
   "metadata": {},
   "outputs": [],
   "source": [
    "disease_pred = clf_dt.predict(X)"
   ]
  },
  {
   "cell_type": "code",
   "execution_count": null,
   "metadata": {},
   "outputs": [],
   "source": [
    "disease_real = y.values"
   ]
  },
  {
   "cell_type": "code",
   "execution_count": null,
   "metadata": {},
   "outputs": [],
   "source": [
    "for i in range(0, len(disease_real)):\n",
    "    if disease_pred[i]!=disease_real[i]:\n",
    "        print ('Pred: {0} Actual:{1}'.format(disease_pred[i], disease_real[i]))"
   ]
  },
  {
   "cell_type": "code",
   "execution_count": null,
   "metadata": {},
   "outputs": [],
   "source": []
  }
 ],
 "metadata": {
  "kernelspec": {
   "display_name": "Python 3",
   "language": "python",
   "name": "python3"
  },
  "language_info": {
   "codemirror_mode": {
    "name": "ipython",
    "version": 3
   },
   "file_extension": ".py",
   "mimetype": "text/x-python",
   "name": "python",
   "nbconvert_exporter": "python",
   "pygments_lexer": "ipython3",
   "version": "3.8.8"
  }
 },
 "nbformat": 4,
 "nbformat_minor": 2
}
